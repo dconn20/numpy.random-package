{
 "cells": [
  {
   "cell_type": "markdown",
   "metadata": {},
   "source": [
    "# NumPy.random- Package\n",
    "***\n"
   ]
  },
  {
   "cell_type": "markdown",
   "metadata": {},
   "source": [
    "<br/>\n",
    "\n",
    "#### Imported Packages\n"
   ]
  },
  {
   "cell_type": "code",
   "execution_count": 3,
   "metadata": {},
   "outputs": [],
   "source": [
    "import numpy as np\n",
    "import seaborn as sns\n",
    "import matplotlib.pyplot as plt\n",
    "\n",
    "sns.set_style('darkgrid')"
   ]
  },
  {
   "cell_type": "markdown",
   "metadata": {},
   "source": [
    "<br/>\n",
    "\n",
    "## 1. Explain the overall purpose of the package.\n",
    "***"
   ]
  },
  {
   "cell_type": "markdown",
   "metadata": {},
   "source": [
    "NumPy is a Python library that is seen as a fundamental package for scientific computing. NumPy stands for Numerical Python and it is an extension of Numeric and Numarray. It contains:\n",
    "\n",
    "                * A powerful N-dimensional array object\n",
    "                * Sophisticated (broadcasting) functions\n",
    "                * Tools for integrating C/C++ and Fortran code\n",
    "                * Useful linear algebra, Fourier transform, and random number capabilities\n",
    "                \n",
    "\n",
    "It is best known for its data structure NumPy array, but also has functions that allow developers to quickly perform a wide variety of numerical computations[1]. When using arrays in NumPy we are able to set the attributes such as size, shape and data type and we can also carry out indexing and slicing functions. They are similar to lists in Python except they are faster and contain more built-in methods. The main benefit of NumPy is that it allows for extremely fast data generation and handling as it can integrate with a wide variety of databases[2]. NumPy is such an important Python library that there are other libraries, such as pandas and SciPy, that are built entirely on NumPy. \n",
    "\n",
    "When dealing with simulation the ability to generate random numbers is very important and NumPy provides various methods to do so in the submodule random (numpy.random). Numpy’s random number module contains some simple random data generation methods, some permutation and distribution functions and random generator functions[2]. The numpy.random module supplements the built-in Python random with functions for generating arrays of random values from different probability distributions. It uses a particular algorithm, called the Mersenne Twister, to generate pseudo random numbers[3]. An initial value known as the seed determines the output produced by the algorithm. For any given seed the same random output will be produced but without knowing the seed it is difficult for an observer to predict the output. When conducting data analysis from time to time we may need to generate a number of random values or even an entire dataset of values and the numpy.random package allows us to do this.  \n"
   ]
  },
  {
   "cell_type": "markdown",
   "metadata": {},
   "source": [
    "<br/>\n",
    "\n",
    "## 2. Explain the use of the “Simple random data” and “Permutations” functions.\n",
    "***"
   ]
  },
  {
   "cell_type": "markdown",
   "metadata": {},
   "source": [
    "### Simple Random Data:"
   ]
  },
  {
   "cell_type": "markdown",
   "metadata": {},
   "source": [
    "A simple random sample is a subset of a statistical population in which each member of the subset has an equal probability of being chosen[4]. Essentially it is seen as a sampling technique where every item in the population has an even chance and likelihood of being selected in the sample. NumPy offers the random module to generate simple random numbers but as mentioned before these numbers as seen as pseudo random. \n",
    "\n",
    "The NumPy random package contains multiple functions for generating random data such as:\n",
    "\n",
    "##### Rand (numpy.random.rand)\n",
    "\n",
    "The numpy.random.rand function creates an array of a specified shape and fills it with random values. It generates random samples from a uniform distribution over [0, 1] so all values are equally as likely to be selected[5]. Each time this function is ran it will give back a different selection of values."
   ]
  },
  {
   "cell_type": "code",
   "execution_count": 16,
   "metadata": {},
   "outputs": [
    {
     "data": {
      "text/plain": [
       "array([0.92426476, 0.96829829, 0.63158228])"
      ]
     },
     "execution_count": 16,
     "metadata": {},
     "output_type": "execute_result"
    }
   ],
   "source": [
    "# Create a 1D array\n",
    "# A single array with 3 values[6]\n",
    "np.random.rand(3)"
   ]
  },
  {
   "cell_type": "code",
   "execution_count": 17,
   "metadata": {},
   "outputs": [
    {
     "data": {
      "text/plain": [
       "array([[0.00287929, 0.89822391, 0.81867125, 0.29293208, 0.4178119 ],\n",
       "       [0.53201005, 0.56639536, 0.80396647, 0.67109782, 0.04803303],\n",
       "       [0.14812207, 0.63993165, 0.39308318, 0.23918014, 0.70619557]])"
      ]
     },
     "execution_count": 17,
     "metadata": {},
     "output_type": "execute_result"
    }
   ],
   "source": [
    "# Create a 2D array\n",
    "# 3 arrays each with 5 values\n",
    "np.random.rand(3, 5)  "
   ]
  },
  {
   "cell_type": "code",
   "execution_count": 18,
   "metadata": {},
   "outputs": [
    {
     "data": {
      "text/plain": [
       "array([[[0.12883251, 0.32927979, 0.1046624 , 0.49041265],\n",
       "        [0.47742509, 0.89291209, 0.29634478, 0.23366404],\n",
       "        [0.03304849, 0.757627  , 0.64790743, 0.31161412]],\n",
       "\n",
       "       [[0.22040271, 0.36340939, 0.98591977, 0.61256964],\n",
       "        [0.01807244, 0.41188685, 0.99518314, 0.16803897],\n",
       "        [0.27058261, 0.4573017 , 0.54156353, 0.29846234]]])"
      ]
     },
     "execution_count": 18,
     "metadata": {},
     "output_type": "execute_result"
    }
   ],
   "source": [
    "# Create a 3D array\n",
    "# 2 arrays with 3 rows and 4 values\n",
    "np.random.rand(2, 3, 4) "
   ]
  },
  {
   "cell_type": "markdown",
   "metadata": {},
   "source": [
    "#### Randn (numpy.random.randn)"
   ]
  },
  {
   "cell_type": "markdown",
   "metadata": {},
   "source": [
    "Randn is used to generate an array of a specified shape filled with random values. Numpy.random.randn function returns samples from the standard normal distribution of mean 0 and a variance 1 [7]."
   ]
  },
  {
   "cell_type": "code",
   "execution_count": 15,
   "metadata": {},
   "outputs": [
    {
     "data": {
      "text/plain": [
       "array([-0.18529202,  0.34002843])"
      ]
     },
     "execution_count": 15,
     "metadata": {},
     "output_type": "execute_result"
    }
   ],
   "source": [
    "# 1D array\n",
    "np.random.randn(2) "
   ]
  },
  {
   "cell_type": "code",
   "execution_count": 12,
   "metadata": {},
   "outputs": [
    {
     "data": {
      "text/plain": [
       "array([[-0.79616856, -0.76766834, -0.12757206],\n",
       "       [ 0.02144234,  0.96586494,  2.22494942],\n",
       "       [ 0.29048459, -0.81849407,  0.89281812],\n",
       "       [-1.76486852,  1.56572197, -1.11698521]])"
      ]
     },
     "execution_count": 12,
     "metadata": {},
     "output_type": "execute_result"
    }
   ],
   "source": [
    "# 2D Array    \n",
    "np.random.randn(4, 3) "
   ]
  },
  {
   "cell_type": "code",
   "execution_count": 14,
   "metadata": {},
   "outputs": [
    {
     "data": {
      "text/plain": [
       "array([[[-0.30133516,  1.09189746, -0.49786378,  1.10788934],\n",
       "        [-0.22671919, -1.66031078, -1.64375767,  2.16393022],\n",
       "        [-1.6701679 , -2.77021138, -0.37449523,  0.41050092]],\n",
       "\n",
       "       [[-0.45844213,  1.08953229, -1.56798721,  1.51738817],\n",
       "        [ 1.48406394, -0.55600996,  0.99702365, -1.10377931],\n",
       "        [-0.27512381, -0.06438625, -0.78470529,  1.10881696]]])"
      ]
     },
     "execution_count": 14,
     "metadata": {},
     "output_type": "execute_result"
    }
   ],
   "source": [
    "# 3D Array      \n",
    "np.random.randn(2, 3 ,4)  "
   ]
  },
  {
   "cell_type": "markdown",
   "metadata": {},
   "source": [
    "\n",
    "#### Randint (numpy.random.randint)"
   ]
  },
  {
   "cell_type": "markdown",
   "metadata": {},
   "source": [
    "The numpy.random.randint function returns random integers from low (inclusive) to high (exclusive) using the uniform distribution. Low sets the lowest (start) integer to be taken from and high (end) sets the largest integer. If there is no high value the low value then becomes the highest integer to be taken from. The function also takes a size parameter which refers to the output shape. The data type (dtype) can also be set with all dtypes being determined by their names. The default dtype is set to int[8]."
   ]
  },
  {
   "cell_type": "code",
   "execution_count": 24,
   "metadata": {},
   "outputs": [
    {
     "data": {
      "text/plain": [
       "array([2, 2, 2, 4, 4, 4, 2, 4])"
      ]
     },
     "execution_count": 24,
     "metadata": {},
     "output_type": "execute_result"
    }
   ],
   "source": [
    "# Create an array with 8 values\n",
    "# 1 will be included and 5 excluded\n",
    "np.random.randint(1, 5, 8) "
   ]
  },
  {
   "cell_type": "code",
   "execution_count": 52,
   "metadata": {},
   "outputs": [
    {
     "data": {
      "text/plain": [
       "array([ 4,  2, 19,  1,  1,  0,  6,  3, 17,  7])"
      ]
     },
     "execution_count": 52,
     "metadata": {},
     "output_type": "execute_result"
    }
   ],
   "source": [
    "# Generate random numbers between 0 and 20\n",
    "# No high value so default set to (0, low)\n",
    "# 0 will be included and 20 excluded\n",
    "np.random.randint(low = 20, size = 10)"
   ]
  },
  {
   "cell_type": "markdown",
   "metadata": {},
   "source": [
    "\n",
    "#### Random_integers (numpy.random.random_integers)"
   ]
  },
  {
   "cell_type": "markdown",
   "metadata": {},
   "source": [
    "The random_integers function works similar to randint, but 1 is the lowest value if the high value is omitted. This function has been deprecated and replaced by randint[9]."
   ]
  },
  {
   "cell_type": "code",
   "execution_count": 32,
   "metadata": {},
   "outputs": [
    {
     "name": "stderr",
     "output_type": "stream",
     "text": [
      "<ipython-input-32-963ec37a29c9>:3: DeprecationWarning: This function is deprecated. Please call randint(1, 10 + 1) instead\n",
      "  np.random.random_integers(10)\n"
     ]
    },
    {
     "data": {
      "text/plain": [
       "2"
      ]
     },
     "execution_count": 32,
     "metadata": {},
     "output_type": "execute_result"
    }
   ],
   "source": [
    "# Generate a random number between 1 and 10\n",
    "# You are told to use the randint function instead\n",
    "np.random.random_integers(10)"
   ]
  },
  {
   "cell_type": "markdown",
   "metadata": {},
   "source": [
    "\n",
    "#### Random_sample (numpy.random.random_sample)"
   ]
  },
  {
   "cell_type": "markdown",
   "metadata": {},
   "source": [
    "Random_sample returns an array of random floats from the continuous unifrom distribution. It returns in the interval (0.0, 0.1) or just a single random float if no size values are provided [10]. Other functions such as random, sample and ranf can give the same output as random_sample. "
   ]
  },
  {
   "cell_type": "code",
   "execution_count": 33,
   "metadata": {},
   "outputs": [
    {
     "data": {
      "text/plain": [
       "0.36826724703975244"
      ]
     },
     "execution_count": 33,
     "metadata": {},
     "output_type": "execute_result"
    }
   ],
   "source": [
    "# Generate a random number\n",
    "np.random.random_sample()"
   ]
  },
  {
   "cell_type": "code",
   "execution_count": 34,
   "metadata": {},
   "outputs": [
    {
     "data": {
      "text/plain": [
       "array([0.72723184, 0.66393412, 0.73460978, 0.03536758, 0.98163617,\n",
       "       0.53529934, 0.92296264, 0.83990525, 0.30497211, 0.41665136])"
      ]
     },
     "execution_count": 34,
     "metadata": {},
     "output_type": "execute_result"
    }
   ],
   "source": [
    "# Generate 10 random numbers\n",
    "np.random.random_sample(10)"
   ]
  },
  {
   "cell_type": "code",
   "execution_count": 36,
   "metadata": {},
   "outputs": [
    {
     "data": {
      "text/plain": [
       "array([[0.41274226, 0.38795507, 0.17902702, 0.40691818, 0.49745117],\n",
       "       [0.91896406, 0.72763298, 0.97285096, 0.26953298, 0.28864775],\n",
       "       [0.96451464, 0.9128602 , 0.33166106, 0.14275662, 0.2756133 ]])"
      ]
     },
     "execution_count": 36,
     "metadata": {},
     "output_type": "execute_result"
    }
   ],
   "source": [
    "# Create 2D array\n",
    "np.random.random_sample((3, 5)) "
   ]
  },
  {
   "cell_type": "code",
   "execution_count": 37,
   "metadata": {},
   "outputs": [
    {
     "data": {
      "text/plain": [
       "array([[[0.05230858, 0.37394778, 0.48627057, 0.17530993],\n",
       "        [0.24796758, 0.29343776, 0.49068835, 0.22281423]],\n",
       "\n",
       "       [[0.07587866, 0.14990664, 0.18027459, 0.78686919],\n",
       "        [0.31894239, 0.65534723, 0.40897557, 0.27411425]],\n",
       "\n",
       "       [[0.10943842, 0.26141753, 0.81715805, 0.84257593],\n",
       "        [0.3992413 , 0.86072998, 0.64795304, 0.32435856]]])"
      ]
     },
     "execution_count": 37,
     "metadata": {},
     "output_type": "execute_result"
    }
   ],
   "source": [
    "# Create 3D array\n",
    "np.random.random_sample((3, 2, 4))"
   ]
  },
  {
   "cell_type": "code",
   "execution_count": 15,
   "metadata": {},
   "outputs": [
    {
     "data": {
      "text/plain": [
       "array([0.51992849, 0.56903931, 0.76970466, 0.22650264, 0.52354423])"
      ]
     },
     "execution_count": 15,
     "metadata": {},
     "output_type": "execute_result"
    }
   ],
   "source": [
    "# Using Random\n",
    "np.random.random(5)"
   ]
  },
  {
   "cell_type": "code",
   "execution_count": 16,
   "metadata": {},
   "outputs": [
    {
     "data": {
      "text/plain": [
       "array([0.03077766, 0.95578211, 0.66946425, 0.64022253, 0.58070852])"
      ]
     },
     "execution_count": 16,
     "metadata": {},
     "output_type": "execute_result"
    }
   ],
   "source": [
    "# Using Sample\n",
    "np.random.sample(5)"
   ]
  },
  {
   "cell_type": "code",
   "execution_count": 17,
   "metadata": {},
   "outputs": [
    {
     "data": {
      "text/plain": [
       "array([0.99534371, 0.6905161 , 0.80378215, 0.63731008, 0.68254202])"
      ]
     },
     "execution_count": 17,
     "metadata": {},
     "output_type": "execute_result"
    }
   ],
   "source": [
    "# Using Ranf\n",
    "np.random.ranf(5)"
   ]
  },
  {
   "cell_type": "markdown",
   "metadata": {},
   "source": [
    "\n",
    "#### Choice (numpy.random.choice)\n"
   ]
  },
  {
   "cell_type": "markdown",
   "metadata": {},
   "source": [
    "The Choice function allows you to generate a random sample from an array. Random.choice takes an array as a parameter and randomly returns one of its values or it can also be used to return multiple values. This is uselful when you want to choose multiple random items from a particular list[11]. "
   ]
  },
  {
   "cell_type": "code",
   "execution_count": 30,
   "metadata": {},
   "outputs": [
    {
     "data": {
      "text/plain": [
       "array([3, 4, 4])"
      ]
     },
     "execution_count": 30,
     "metadata": {},
     "output_type": "execute_result"
    }
   ],
   "source": [
    "# Generate 3 random numbers between 1 and 5\n",
    "np.random.choice(5, 3)"
   ]
  },
  {
   "cell_type": "code",
   "execution_count": 34,
   "metadata": {},
   "outputs": [
    {
     "data": {
      "text/plain": [
       "'bird'"
      ]
     },
     "execution_count": 34,
     "metadata": {},
     "output_type": "execute_result"
    }
   ],
   "source": [
    "animal = ['dog', 'cat', 'bear', 'lion', 'ape', 'bird']\n",
    "\n",
    "# Get a random sample from list\n",
    "np.random.choice(animal)"
   ]
  },
  {
   "cell_type": "code",
   "execution_count": 35,
   "metadata": {},
   "outputs": [
    {
     "data": {
      "text/plain": [
       "array(['cat', 'lion', 'ape'], dtype='<U4')"
      ]
     },
     "execution_count": 35,
     "metadata": {},
     "output_type": "execute_result"
    }
   ],
   "source": [
    "# Get 3 random samples from the list\n",
    "np.random.choice(animal, 3)"
   ]
  },
  {
   "cell_type": "code",
   "execution_count": 36,
   "metadata": {},
   "outputs": [
    {
     "data": {
      "text/plain": [
       "array([['lion', 'ape'],\n",
       "       ['bird', 'bear'],\n",
       "       ['ape', 'ape']], dtype='<U4')"
      ]
     },
     "execution_count": 36,
     "metadata": {},
     "output_type": "execute_result"
    }
   ],
   "source": [
    "# Create a random array with 3 rows and 2 columns\n",
    "np.random.choice(animal,(3,2))"
   ]
  },
  {
   "cell_type": "markdown",
   "metadata": {},
   "source": [
    "\n",
    "#### Bytes (numpy.random.bytes)"
   ]
  },
  {
   "cell_type": "markdown",
   "metadata": {},
   "source": [
    "The bytes function returns random bytes and you can set the lenght of the output."
   ]
  },
  {
   "cell_type": "code",
   "execution_count": 44,
   "metadata": {},
   "outputs": [
    {
     "data": {
      "text/plain": [
       "b'K\\x9c'"
      ]
     },
     "execution_count": 44,
     "metadata": {},
     "output_type": "execute_result"
    }
   ],
   "source": [
    "np.random.bytes(2)"
   ]
  },
  {
   "cell_type": "markdown",
   "metadata": {},
   "source": [
    "<br/>\n",
    "<br/>\n",
    "\n",
    "### Permutations:"
   ]
  },
  {
   "cell_type": "markdown",
   "metadata": {},
   "source": [
    "A permutation refers to an arrangement of elements. e.g. 3,2,1 is a permutation of 1,2,3 and vice-versa. The NumPy Random module provides two methods for this, shuffle and permutation[12]."
   ]
  },
  {
   "cell_type": "markdown",
   "metadata": {},
   "source": [
    "\n",
    "#### Shuffle (numpy.random.shuffle)"
   ]
  },
  {
   "cell_type": "markdown",
   "metadata": {},
   "source": [
    "The shuffle function is used to modify a sequence by shuffling its contents. It changes the arrangement of elements in the array itself but the contents always remain the same. The function only shuffles along the first axis of a multi-dimensional array[13].   "
   ]
  },
  {
   "cell_type": "code",
   "execution_count": 49,
   "metadata": {},
   "outputs": [
    {
     "data": {
      "text/plain": [
       "['lion', 'dog', 'bear', 'cat', 'bird', 'ape']"
      ]
     },
     "execution_count": 49,
     "metadata": {},
     "output_type": "execute_result"
    }
   ],
   "source": [
    "# Shuffle a list\n",
    "animal = ['dog', 'cat', 'bear', 'lion', 'ape', 'bird']\n",
    "\n",
    "np.random.shuffle(animal)\n",
    "animal"
   ]
  },
  {
   "cell_type": "markdown",
   "metadata": {},
   "source": [
    "\n",
    "#### Permutation (numpy.random.permutation)\n"
   ]
  },
  {
   "cell_type": "markdown",
   "metadata": {},
   "source": [
    "Permutation is used to randomly permute a sequence or return a permuted range. If used on a multi-dimensional array it is only shuffled along its first index. The permutation function returns a rearranged array but unlike shuffle it leaves the original array unchanged[14]."
   ]
  },
  {
   "cell_type": "code",
   "execution_count": 58,
   "metadata": {},
   "outputs": [
    {
     "data": {
      "text/plain": [
       "array(['dog', 'lion', 'cat', 'bird', 'ape', 'bear'], dtype='<U4')"
      ]
     },
     "execution_count": 58,
     "metadata": {},
     "output_type": "execute_result"
    }
   ],
   "source": [
    "# Using Permutation with a list\n",
    "animal = ['dog', 'cat', 'bear', 'lion', 'ape', 'bird']\n",
    "\n",
    "np.random.permutation(animal)"
   ]
  },
  {
   "cell_type": "markdown",
   "metadata": {},
   "source": [
    "<br/>\n",
    "<br/>\n",
    "\n",
    "## 3. Explain the use and purpose of at least five “Distributions” functions.\n",
    "***"
   ]
  },
  {
   "cell_type": "markdown",
   "metadata": {},
   "source": [
    "Porobability distributions allow Data Scientists to recognise patterns in random variables. Most data science or machine learning skills are based on assumptions about the distribution of your data[15]. There are two main types of distribution, discreet and continuous.\n",
    "\n",
    "A discrete distribution is a distribution of data that has discrete values. These values are countable, finite, non-negative integers, such as 1, 10, 15, etc. It is used in data research to identify the outcome and probabilities of a particular study. The most common discrete probability distributions include Binomial, Poisson, Bernoulli, and Multinomial[16].\n",
    "\n",
    "A continuous distribution describes the probabilities of the possible values of a continuous random variable. A continuous random variable is a random variable with a set of possible values (range) that is infinite and uncountable[17]. Normal, Uniform, Chi Square and T Distribution are all examples of continuous distributions. "
   ]
  },
  {
   "cell_type": "markdown",
   "metadata": {},
   "source": [
    "<br/>\n",
    "\n",
    "### Distributions"
   ]
  },
  {
   "cell_type": "markdown",
   "metadata": {},
   "source": [
    "\n",
    "#### Binomial (numpy.random.binomial)"
   ]
  },
  {
   "cell_type": "markdown",
   "metadata": {},
   "source": [
    "Binomial distribution is a distribution where only two outcomes are possible, such as success or failure, gain or loss, win or lose and the probability of success and failure is the same for all its trials. Take the example of a coin toss, there are only two possible outcomes, heads or tails. The probability of getting a heads (success) can be seen as p = 0.5 and the probability of getting a tails (failure) can be seen as q = 1 - p = 0.5. This can also be used if outcomes are not equal, eg. if the probability of success is p = 0.3 then the probability of failure is q = 1 - 0.3 = 0.7. Each trial is independent since the outcome of the previous toss doesn’t determine or affect the outcome of the current toss[18]. The parameters are:\n",
    "        \n",
    "        n - the total number of trials\n",
    "        \n",
    "        p - the probability of success in each trial\n",
    "        \n",
    "        size - output shape"
   ]
  },
  {
   "cell_type": "code",
   "execution_count": 17,
   "metadata": {},
   "outputs": [
    {
     "data": {
      "text/plain": [
       "array([6, 5, 5, 6, 5, 6, 7, 7, 4, 5, 4, 4, 1, 7, 3, 6, 7, 5, 5, 4, 5, 5,\n",
       "       6, 5, 3, 6, 5, 8, 3, 5, 6, 8, 4, 5, 4, 7, 8, 5, 6, 6, 5, 4, 7, 7,\n",
       "       7, 7, 5, 6, 6, 4, 7, 3, 4, 7, 3, 7, 3, 2, 6, 4, 6, 2, 8, 6, 5, 7,\n",
       "       3, 4, 5, 6, 6, 5, 4, 8, 4, 4, 7, 5, 6, 7, 5, 5, 3, 7, 7, 5, 3, 6,\n",
       "       4, 5, 5, 3, 5, 7, 5, 3, 6, 3, 5, 4])"
      ]
     },
     "execution_count": 17,
     "metadata": {},
     "output_type": "execute_result"
    }
   ],
   "source": [
    "# result of flipping a coin 10 times, tested 100 times\n",
    "ans = np.random.binomial(10, .5, 100)\n",
    "ans"
   ]
  },
  {
   "cell_type": "code",
   "execution_count": 13,
   "metadata": {},
   "outputs": [
    {
     "data": {
      "text/plain": [
       "Text(0, 0.5, 'Heads success rate')"
      ]
     },
     "execution_count": 13,
     "metadata": {},
     "output_type": "execute_result"
    },
    {
     "data": {
      "image/png": "[encoded data removed]",
      "text/plain": [
       "<Figure size 1008x504 with 1 Axes>"
      ]
     },
     "metadata": {},
     "output_type": "display_data"
    }
   ],
   "source": [
    "# Coin toss trial function which displays binomial distribution [19]\n",
    "\n",
    "# Number of trials\n",
    "trials = 1000\n",
    "# Number of independent experiments in each trial\n",
    "n = 10\n",
    "# Probability of success for each experiment\n",
    "p = 0.5\n",
    "# heads is a list of the number of successes from each trial of n experiments\n",
    "def binom(trials, n, p):\n",
    "    heads = []\n",
    "    for i in range(trials):\n",
    "        tosses = [np.random.random() for i in range(n)]\n",
    "        heads.append(len([i for i in tosses if i>=0.50]))\n",
    "    return heads\n",
    "# Run the function\n",
    "heads = binom(trials, n, p)\n",
    "# Plot the results as a histogram\n",
    "fig, ax = plt.subplots(figsize=(14,7))\n",
    "ax = sns.histplot(heads, bins=11, label='simulation results')\n",
    "ax.set_xlabel(\"Number of Heads\",fontsize=16)\n",
    "ax.set_ylabel(\"Heads success rate\",fontsize=16)"
   ]
  },
  {
   "cell_type": "code",
   "execution_count": 22,
   "metadata": {},
   "outputs": [
    {
     "name": "stderr",
     "output_type": "stream",
     "text": [
      "C:\\Users\\damie\\anaconda3\\lib\\site-packages\\seaborn\\distributions.py:2551: FutureWarning: `distplot` is a deprecated function and will be removed in a future version. Please adapt your code to use either `displot` (a figure-level function with similar flexibility) or `histplot` (an axes-level function for histograms).\n",
      "  warnings.warn(msg, FutureWarning)\n"
     ]
    },
    {
     "data": {
      "text/plain": [
       "Text(0.5, 1.0, 'Binomial')"
      ]
     },
     "execution_count": 22,
     "metadata": {},
     "output_type": "execute_result"
    },
    {
     "data": {
      "image/png": "[encoded data removed]",
      "text/plain": [
       "<Figure size 432x288 with 1 Axes>"
      ]
     },
     "metadata": {},
     "output_type": "display_data"
    }
   ],
   "source": [
    "# Coin toss trial function which displays binomial distribution\n",
    "df = np.random.binomial(n=20,p=0.5,size=1000)\n",
    "ax = sns.distplot(df,\n",
    "                  kde=True,\n",
    "                  color='green',\n",
    "                  hist_kws={\"linewidth\": 30,'alpha':0.5})\n",
    "ax.set(xlabel='Binomial distribtuion', ylabel='Frequency')\n",
    "plt.title('Binomial', fontsize=15)"
   ]
  },
  {
   "cell_type": "code",
   "execution_count": 23,
   "metadata": {},
   "outputs": [
    {
     "name": "stderr",
     "output_type": "stream",
     "text": [
      "C:\\Users\\damie\\anaconda3\\lib\\site-packages\\seaborn\\distributions.py:2551: FutureWarning: `distplot` is a deprecated function and will be removed in a future version. Please adapt your code to use either `displot` (a figure-level function with similar flexibility) or `histplot` (an axes-level function for histograms).\n",
      "  warnings.warn(msg, FutureWarning)\n"
     ]
    },
    {
     "data": {
      "text/plain": [
       "Text(0.5, 1.0, 'Binomial')"
      ]
     },
     "execution_count": 23,
     "metadata": {},
     "output_type": "execute_result"
    },
    {
     "data": {
      "image/png": "[encoded data removed]",
      "text/plain": [
       "<Figure size 432x288 with 1 Axes>"
      ]
     },
     "metadata": {},
     "output_type": "display_data"
    }
   ],
   "source": [
    "# Coin toss trial function which displays binomial distribution with unequal outcome\n",
    "\n",
    "df = np.random.binomial(n=20,p=0.2,size=1000)\n",
    "ax = sns.distplot(df,\n",
    "                  kde=True,\n",
    "                  color='green',\n",
    "                  hist_kws={\"linewidth\": 20,'alpha':0.5})\n",
    "ax.set(xlabel='Binomial distribtuion', ylabel='Frequency')\n",
    "plt.title('Binomial', fontsize=15)"
   ]
  },
  {
   "cell_type": "markdown",
   "metadata": {},
   "source": [
    "\n",
    "#### Poisson (numpy.random.poisson)"
   ]
  },
  {
   "cell_type": "markdown",
   "metadata": {},
   "source": [
    "A Poisson distribution is a discreet distribution which counts how many times an event is likely to occur within a specified period of time. It is used for independent events which occur within a given interval of time. The Poisson distribution is a discrete function, meaning that the event can only be measured as occurring or not as occurring and the variable can only be measured in whole numbers[20]. It takes two arguments:\n",
    "\n",
    "    lam - rate or known number of occurences\n",
    "    \n",
    "    size - the shape of the returned array\n"
   ]
  },
  {
   "cell_type": "code",
   "execution_count": 28,
   "metadata": {},
   "outputs": [
    {
     "data": {
      "image/png": "[encoded data removed]",
      "text/plain": [
       "<Figure size 432x288 with 1 Axes>"
      ]
     },
     "metadata": {
      "needs_background": "light"
     },
     "output_type": "display_data"
    }
   ],
   "source": [
    "# Draw samples from the distribution and display with histogram [21].\n",
    "s = np.random.poisson(5, 10000)\n",
    "count, bins, ignored = plt.hist(s, 14, density=True)\n",
    "plt.show()"
   ]
  },
  {
   "cell_type": "markdown",
   "metadata": {},
   "source": [
    "<br/>\n",
    "\n",
    "###### Difference Between Poisson and Binomial Distribution"
   ]
  },
  {
   "cell_type": "markdown",
   "metadata": {},
   "source": [
    "Binomial distribution and Poisson distribution have some simularities but are also very different. Binomial distribution is for discrete trials, whereas poisson distribution is for continuous trials. Binomial has two possible outcomes whereas Poisson has an unlimited number of outcomes and Binomial distribution has a constant success probability while Poisson distribution has a small number of success chances[22]. "
   ]
  },
  {
   "cell_type": "markdown",
   "metadata": {},
   "source": [
    "<br/>\n",
    "\n",
    "#### Normal (numpy.random.normal)"
   ]
  },
  {
   "cell_type": "markdown",
   "metadata": {},
   "source": [
    "The Normal Distribution is one of the most important distributions. It is also called the Gaussian Distribution after the German mathematician Carl Friedrich Gauss. It fits the probability distribution of many events, eg. IQ Scores, Heartbeat etc[24]. In normal distributution most of the observsations cluster around a central value and are less likely to occur the further you get from the value. The plot of normally distributed data is often referred to as a bell curve due to its distinctive bell shape. It has three parameters:\n",
    "        \n",
    "        loc - (Mean) where the peak of the bell exists.\n",
    "\n",
    "        scale - (Standard Deviation) how flat the graph distribution should be.\n",
    "\n",
    "        size - The shape of the returned array."
   ]
  },
  {
   "cell_type": "code",
   "execution_count": 28,
   "metadata": {},
   "outputs": [
    {
     "data": {
      "image/png": "[encoded data removed]",
      "text/plain": [
       "<Figure size 432x288 with 1 Axes>"
      ]
     },
     "metadata": {
      "needs_background": "light"
     },
     "output_type": "display_data"
    }
   ],
   "source": [
    "# Draw examples from the distribution[25].\n",
    "\n",
    "# mean and standard deviation\n",
    "mu, sigma = 0, 0.3\n",
    "# draw 10000 numbers in a normal distribution \n",
    "s = np.random.normal(mu, sigma, 10000) \n",
    "# plot histogram of data\n",
    "plt.hist(s) \n",
    "# set x-axes labels between -4 and 5 in steps of 1\n",
    "plt.xticks(np.arange(-4, 5, step=1))\n",
    "plt.show() "
   ]
  },
  {
   "cell_type": "code",
   "execution_count": 45,
   "metadata": {},
   "outputs": [
    {
     "name": "stderr",
     "output_type": "stream",
     "text": [
      "C:\\Users\\damie\\anaconda3\\lib\\site-packages\\seaborn\\distributions.py:2551: FutureWarning: `distplot` is a deprecated function and will be removed in a future version. Please adapt your code to use either `displot` (a figure-level function with similar flexibility) or `kdeplot` (an axes-level function for kernel density plots).\n",
      "  warnings.warn(msg, FutureWarning)\n"
     ]
    },
    {
     "data": {
      "image/png": "[encoded data removed]",
      "text/plain": [
       "<Figure size 432x288 with 1 Axes>"
      ]
     },
     "metadata": {
      "needs_background": "light"
     },
     "output_type": "display_data"
    }
   ],
   "source": [
    "# Visualization of Normal Distribution\n",
    "\n",
    "sns.distplot(np.random.normal(size=1000), hist=False)\n",
    "\n",
    "plt.show()"
   ]
  },
  {
   "cell_type": "markdown",
   "metadata": {},
   "source": [
    "<br/>\n",
    "\n",
    "#### Uniform (numpy.random.uniform)"
   ]
  },
  {
   "cell_type": "markdown",
   "metadata": {},
   "source": [
    "Numpy.random.unifrom draws samples from a uniform distribution. In a uniform distribution all values have an equal chance of occurring. Its parameters are:\n",
    "\n",
    "        low: Values Generated will be greater than or equal to low. Default is 0.\n",
    "        high: Values generated will be less than high. The default value is 1.0.\n",
    "        size: Output the shape. Default(none) will return single values[26]. "
   ]
  },
  {
   "cell_type": "code",
   "execution_count": 41,
   "metadata": {},
   "outputs": [
    {
     "data": {
      "image/png": "[encoded data removed]",
      "text/plain": [
       "<Figure size 432x288 with 1 Axes>"
      ]
     },
     "metadata": {
      "needs_background": "light"
     },
     "output_type": "display_data"
    }
   ],
   "source": [
    "# Draw samples from the distribution\n",
    "x = np.random.uniform(-1,0,1000)\n",
    "\n",
    "# Display the histogram of the samples, along with the probability density function\n",
    "count, bins, ignored = plt.hist(x, 15, density=True)\n",
    "plt.plot(bins, np.ones_like(bins), linewidth=2, color='r')\n",
    "plt.show()\n"
   ]
  },
  {
   "cell_type": "markdown",
   "metadata": {},
   "source": [
    "<br/>\n",
    "\n",
    "#### Chi Square (numpy.random.chisquare)"
   ]
  },
  {
   "cell_type": "markdown",
   "metadata": {},
   "source": [
    "The Chi Square distribution is very important because many test statistics are approximately distributed as Chi Square. Two of the more common tests using the Chi Square distribution are the test of independence for data and the ygoodness of fit for a model. The Chi-Square test of independence is used to determine if there is a significant relationship between two nominal (categorical) variables and the goodness of fit test measures whether there is a difference between the experimental (observed) value and the theoretical (expected) value[27]. Chi Square distribution is used as a basis to verify the hypothesis. It has two parameters:\n",
    "\n",
    "            df - degree of freedom\n",
    "            size - Shape of returned array \n",
    "            \n",
    "When df independent random variables, each with standard normal distributions (mean 0, variance 1), are squared and summed, the resulting distribution is chi-square[28]. The mean of a Chi Square distribution is its degrees of freedom. Chi Square distributions are positively skewed, with the degree of skew decreasing with increasing degrees of freedom. As the degrees of freedom increases, the Chi Square distribution approaches a normal distribution[27]."
   ]
  },
  {
   "cell_type": "code",
   "execution_count": 20,
   "metadata": {},
   "outputs": [
    {
     "name": "stderr",
     "output_type": "stream",
     "text": [
      "C:\\Users\\damie\\anaconda3\\lib\\site-packages\\seaborn\\distributions.py:2551: FutureWarning: `distplot` is a deprecated function and will be removed in a future version. Please adapt your code to use either `displot` (a figure-level function with similar flexibility) or `kdeplot` (an axes-level function for kernel density plots).\n",
      "  warnings.warn(msg, FutureWarning)\n",
      "C:\\Users\\damie\\anaconda3\\lib\\site-packages\\seaborn\\distributions.py:2551: FutureWarning: `distplot` is a deprecated function and will be removed in a future version. Please adapt your code to use either `displot` (a figure-level function with similar flexibility) or `kdeplot` (an axes-level function for kernel density plots).\n",
      "  warnings.warn(msg, FutureWarning)\n",
      "C:\\Users\\damie\\anaconda3\\lib\\site-packages\\seaborn\\distributions.py:2551: FutureWarning: `distplot` is a deprecated function and will be removed in a future version. Please adapt your code to use either `displot` (a figure-level function with similar flexibility) or `kdeplot` (an axes-level function for kernel density plots).\n",
      "  warnings.warn(msg, FutureWarning)\n",
      "C:\\Users\\damie\\anaconda3\\lib\\site-packages\\seaborn\\distributions.py:2551: FutureWarning: `distplot` is a deprecated function and will be removed in a future version. Please adapt your code to use either `displot` (a figure-level function with similar flexibility) or `kdeplot` (an axes-level function for kernel density plots).\n",
      "  warnings.warn(msg, FutureWarning)\n"
     ]
    },
    {
     "data": {
      "image/png": "[encoded data removed]",
      "text/plain": [
       "<Figure size 720x720 with 4 Axes>"
      ]
     },
     "metadata": {},
     "output_type": "display_data"
    }
   ],
   "source": [
    "# Display the Chi Square distribution approaching a normal distribution\n",
    "\n",
    "# set dark grid style\n",
    "sns.set(style=\"darkgrid\")\n",
    "# Create a figure/axes with 4 subplots\n",
    "fig, axes = plt.subplots(2, 2,figsize=[10,10])\n",
    "# Create a title\n",
    "fig.suptitle('Chi Squared Distribution')\n",
    "# Array of 100000, with 1 degree of freedom\n",
    "s1 = np.random.chisquare(1,100000) \n",
    "# Create plot on axis [0,0]\n",
    "sns.distplot(s1,hist=False,ax=axes[0,0])\n",
    "# Subplot title\n",
    "axes[0,0].title.set_text('df = 1')\n",
    "# Array of 100000, with 3 degrees of freedom\n",
    "s2 = np.random.chisquare(3,100000) \n",
    "# Create plot s2 on axes [0,1]\n",
    "sns.distplot(s2,hist=False,ax=axes[0,1])\n",
    "# Subplot title\n",
    "axes[0,1].title.set_text('df = 3') \n",
    "# Array of 100000, with 6 degrees of freedom\n",
    "s3 = np.random.chisquare(6,100000) \n",
    "# Create plot s3 on axes[1,0]\n",
    "sns.distplot(s3,hist=False,ax=axes[1,0])  \n",
    "# Subplot title\n",
    "axes[1,0].title.set_text('df = 6')\n",
    "# Array of 100000, with 12 degrees of freedom\n",
    "s4 = np.random.chisquare(12,100000) \n",
    "# Create plot s4 on axes[1,1]\n",
    "sns.distplot(s4,hist=False,ax=axes[1,1]) \n",
    "# Subplot title\n",
    "axes[1,1].title.set_text('df = 12')"
   ]
  },
  {
   "cell_type": "markdown",
   "metadata": {},
   "source": [
    "<br/>\n",
    "<br/>\n",
    "\n",
    "## 4. Explain the use of seeds in generating pseudorandom numbers.\n",
    "***"
   ]
  },
  {
   "cell_type": "markdown",
   "metadata": {},
   "source": [
    "As mentioned earlier in this project the random numbers generated by NumPy are not exactly random. They are known as pseudo random as they are determined by the input and the pseudo random number algorithm. The seed is the starting point for the pseudo random number generator and the numpy.random.seed function allows you to provide the seed value to the random number generator. If the seed used is known, then it is possible to predict the behavior of the pseudo random number generator.  \n",
    "\n",
    "Pseudo Random Number Generator(PRNG) refers to an algorithm that uses mathematical formulas to produce sequences of random numbers. PRNGs generate a sequence of numbers approximating the properties of random numbers and start from an arbitrary starting state using a seed state[29].\n",
    "\n",
    "The seed function is used to save the state of a random function. This is done so it can generate same random numbers on multiple executions of the code for a particular seed value. The seed value is the previous value number generated by the generator. For the first time when there is no previous value, it uses the computers current system time[30]. Current time is a frequently used seed as they are usually generated from a computer systems time."
   ]
  },
  {
   "cell_type": "code",
   "execution_count": 30,
   "metadata": {},
   "outputs": [
    {
     "name": "stdout",
     "output_type": "stream",
     "text": [
      "868\n",
      "868\n",
      "207\n"
     ]
    }
   ],
   "source": [
    "# Generate the same random number every time with the same seed value[30].\n",
    "np.random.seed(5) \n",
    "  \n",
    "# print a random number between 1 and 1000 \n",
    "print(np.random.randint(1, 1000)) \n",
    "  \n",
    "# get the same random number again \n",
    "np.random.seed(5)  \n",
    "print(np.random.randint(1, 1000)) \n",
    "  \n",
    "# If seed function is not used  \n",
    "# Gives different random number \n",
    "print(np.random.randint(1, 1000)) "
   ]
  },
  {
   "cell_type": "markdown",
   "metadata": {},
   "source": [
    "<br>\n",
    "\n",
    "#### References\n",
    "****"
   ]
  },
  {
   "cell_type": "markdown",
   "metadata": {},
   "source": [
    "[1]. Freecodecamp. https://www.freecodecamp.org/news/the-ultimate-guide-to-the-numpy-scientific-computing-library-for-python/\n",
    "\n",
    "[2]. javapoint.com https://www.javatpoint.com/numpy-random\n",
    "\n",
    "[3]. Getting Started with Python Data Analysis.-BOOK!!!!!!!!!!! https://subscription.packtpub.com/book/big_data_and_business_intelligence/9781785285110/2/ch02lvl1sec16/numpy-random-numbers\n",
    "\n",
    "[4]. Investopedia https://www.investopedia.com/terms/s/simple-random-sample.asp\n",
    "\n",
    "[5]. docs.scipy.org https://docs.scipy.org/doc/numpy-1.15.0/reference/generated/numpy.random.rand.html#numpy.random.rand\n",
    "\n",
    "[6]. geeksforgeeks.org https://www.geeksforgeeks.org/numpy-random-rand-python/\n",
    "    \n",
    "[7]. geeksforgeeks.org https://www.geeksforgeeks.org/numpy-random-randn-python/?ref=lbp\n",
    "\n",
    "[8]. docs.scipy.org https://docs.scipy.org/doc/numpy-1.15.0/reference/generated/numpy.random.randint.html\n",
    "\n",
    "[9]. docs.scipy.org https://docs.scipy.org/doc/numpy-1.15.0/reference/generated/numpy.random.random_integers.html#numpy.random.random_integers\n",
    "\n",
    "[10]. docs.scipy.org https://docs.scipy.org/doc/numpy-1.15.0/reference/generated/numpy.random.random_sample.html#numpy.random.random_sample\n",
    "\n",
    "[11]. docs.scipy.org https://docs.scipy.org/doc/numpy-1.15.0/reference/generated/numpy.random.choice.html#numpy.random.choice\n",
    "\n",
    "[12]. w3schools.com https://www.w3schools.com/python/numpy_random_permutation.asp\n",
    "\n",
    "[13]. docs.scipy.org https://docs.scipy.org/doc/numpy-1.15.0/reference/generated/numpy.random.shuffle.html#numpy.random.shuffle\n",
    "\n",
    "[14]. w3schools.com https://www.w3schools.com/python/numpy_random_permutation.asp\n",
    "\n",
    "[15]. kdnuggets.com https://www.kdnuggets.com/2019/07/5-probability-distributions-every-data-scientist-should-know.html\n",
    "\n",
    "[16]. investopedia.com https://www.investopedia.com/terms/d/discrete-distribution.asp\n",
    "\n",
    "[17]. minitab.com https://support.minitab.com/en-us/minitab-express/1/help-and-how-to/basic-statistics/probability-distributions/supporting-topics/basics/continuous-and-discrete-probability-distributions/#:~:text=a%20discrete%20distribution%3F-,What%20is%20a%20continuous%20distribution%3F,that%20is%20infinite%20and%20uncountable.\n",
    "\n",
    "[18]. analyticsvidhya.com https://www.analyticsvidhya.com/blog/2017/09/6-probability-distributions-data-science/\n",
    "\n",
    "[19]. towardsdatascience.com https://towardsdatascience.com/fun-with-the-binomial-distribution-96a5ecabf65b\n",
    "\n",
    "[20]. investopedia.com https://www.investopedia.com/terms/p/poisson-distribution.asp\n",
    "\n",
    "[21]. docs.scipy.com https://docs.scipy.org/doc/numpy-1.15.0/reference/generated/numpy.random.poisson.html#numpy.random.poisson\n",
    "\n",
    "[22]. keydifferences.com https://keydifferences.com/difference-between-binomial-and-poisson-distribution.html\n",
    "\n",
    "[23]. w3schools.com https://www.w3schools.com/python/numpy_random_poisson.asp\n",
    "\n",
    "[24]. w3schools.com https://www.w3schools.com/python/numpy_random_normal.asp\n",
    "\n",
    "[25]. matplotlib.org https://matplotlib.org/3.1.1/api/_as_gen/matplotlib.pyplot.xticks.html\n",
    "\n",
    "[26]. docs.scipy.com https://docs.scipy.org/doc/numpy-1.15.0/reference/generated/numpy.random.uniform.html#numpy.random.uniform\n",
    "\n",
    "[27]. onlinestatbook.com http://onlinestatbook.com/2/chi_square/distribution.html\n",
    "\n",
    "[28]. docs.scipy.com https://docs.scipy.org/doc/numpy-1.15.0/reference/generated/numpy.random.chisquare.html#numpy.random.chisquare\n",
    "\n",
    "[29]. geeksforgeeks.org https://www.geeksforgeeks.org/pseudo-random-number-generator-prng/\n",
    "\n",
    "[30]. geeksforgeeks.org https://www.geeksforgeeks.org/random-seed-in-python/\n",
    "\n",
    "\n",
    "\n",
    "\n",
    "\n",
    "\n",
    "\n",
    "\n"
   ]
  }
 ],
 "metadata": {
  "kernelspec": {
   "display_name": "Python 3",
   "language": "python",
   "name": "python3"
  },
  "language_info": {
   "codemirror_mode": {
    "name": "ipython",
    "version": 3
   },
   "file_extension": ".py",
   "mimetype": "text/x-python",
   "name": "python",
   "nbconvert_exporter": "python",
   "pygments_lexer": "ipython3",
   "version": "3.8.3"
  }
 },
 "nbformat": 4,
 "nbformat_minor": 4
}
