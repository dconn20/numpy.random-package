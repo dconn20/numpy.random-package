{
 "cells": [
  {
   "cell_type": "markdown",
   "metadata": {},
   "source": [
    "# NumPy.random- Package\n",
    "***\n"
   ]
  },
  {
   "cell_type": "markdown",
   "metadata": {},
   "source": [
    "<br/>\n",
    "\n",
    "#### Imported Packages\n"
   ]
  },
  {
   "cell_type": "code",
   "execution_count": 20,
   "metadata": {},
   "outputs": [],
   "source": [
    "import numpy as np"
   ]
  },
  {
   "cell_type": "markdown",
   "metadata": {},
   "source": [
    "## 1. Explain the overall purpose of the package.\n",
    "***"
   ]
  },
  {
   "cell_type": "markdown",
   "metadata": {},
   "source": [
    "NumPy is a Python library that is seen as the fundamental package for scientific computing. NumPy stands for Numerical Python and it is an extension of Numeric and Numarray. It is mostly used when working with arrays but also has functions for working in the domain of linear algebra, fourier transform and matrices. The main benefit of NumPy is that it allows for extremely fast data generation and handling. It has its own built-in data structure called an array which can store and operate on data much more efficiently. NumPy is such an important Python library that there are other libraries, such as pandas, that are built entirely on NumPy[1]. \n",
    "\n",
    "\n",
    "\n",
    "When dealing with simulation the ability to generate random numbers is very important and NumPy provides various routines in the submodule random (numpy.random). It uses a particular algorithm, called the Mersenne Twister, to generate pseudorandom numbers. An initial value known as the seed determines the output produced by the algorithm. For any given seed the same random output will be produced, hence the term 'pseudo'. Without knowing the seed it will be difficult for an observer to predict the output. A truly random generator would always produce an unpredictable outcome[2]. Numpy’s random number routines produce pseudorandom numbers using combinations of a BitGenerator to create sequences and a Generator to use those sequences to sample from different statistical distributions[3]. \n",
    "\n",
    "When conducting data analysis from time to time we may need to generate a large number of values or even an entire dataset of values and the numpy.random sub package allows us to do this.  \n"
   ]
  },
  {
   "cell_type": "markdown",
   "metadata": {},
   "source": [
    "<br/>\n",
    "\n",
    "## 2. Explain the use of the “Simple random data” and “Permutations” functions.\n",
    "***"
   ]
  },
  {
   "cell_type": "markdown",
   "metadata": {},
   "source": [
    "### Simple Random Data:"
   ]
  },
  {
   "cell_type": "markdown",
   "metadata": {},
   "source": [
    "Simple random sample is a subset of a statistical population in which each member of the subset has an equal probability of being chosen[4]. It is seen as a sampling technique where every item in the population has an even chance and likelihood of being selected in the sample. It is also important to remember that most random data generated with computer programs is not seen as random in the scientific sense and are known as pseudo random. Random numbers generated through a generation algorithm are called pseudo random.\n",
    "\n",
    "The NumPy random package contains multiple functions for generating random data such as:\n",
    "\n",
    "##### Rand (numpy.random.rand)\n",
    "\n",
    "The numpy.random.rand function creates an array of specified shape and fills it with random values. It generates random samples from a uniform distribution over [0, 1] so all values are equally as likely to be selected[5]. The function returns random numbers in an array of the given dimensions(the amount of rows and columns). Each time the function is ran it will give back a different selection of numbers."
   ]
  },
  {
   "cell_type": "markdown",
   "metadata": {},
   "source": [
    "**Creating a 1D array**"
   ]
  },
  {
   "cell_type": "code",
   "execution_count": 12,
   "metadata": {},
   "outputs": [
    {
     "name": "stdout",
     "output_type": "stream",
     "text": [
      "1D Array filled with random values : \n",
      " [0.22906575 0.97483451 0.4729886 ]\n"
     ]
    }
   ],
   "source": [
    "# A single array with 3 values[6]\n",
    "array = np.random.rand(3)\n",
    "print(\"1D Array filled with random values : \\n\", array);"
   ]
  },
  {
   "cell_type": "markdown",
   "metadata": {},
   "source": [
    "**Creating a 2D array**"
   ]
  },
  {
   "cell_type": "code",
   "execution_count": 13,
   "metadata": {},
   "outputs": [
    {
     "name": "stdout",
     "output_type": "stream",
     "text": [
      "2D Array filled with random values : \n",
      " [[0.8918712  0.20933965 0.5836829  0.31013611 0.98266243]\n",
      " [0.0719549  0.49426908 0.29125648 0.00546772 0.75559399]\n",
      " [0.53719878 0.80757579 0.4471555  0.22091266 0.90517912]]\n"
     ]
    }
   ],
   "source": [
    "# 3 arrays each with 5 values[6]\n",
    "array = np.random.rand(3, 5) \n",
    "print(\"2D Array filled with random values : \\n\", array); "
   ]
  },
  {
   "cell_type": "markdown",
   "metadata": {},
   "source": [
    "**Creating a 3D array**"
   ]
  },
  {
   "cell_type": "code",
   "execution_count": 26,
   "metadata": {},
   "outputs": [
    {
     "name": "stdout",
     "output_type": "stream",
     "text": [
      "3D Array filled with random values : \n",
      " [[[0.75988842 0.56996897 0.42509496 0.47507891]\n",
      "  [0.95849959 0.89422597 0.0494144  0.81945015]\n",
      "  [0.14971112 0.0271685  0.0172001  0.20296753]]\n",
      "\n",
      " [[0.00888596 0.3698368  0.86398023 0.07258518]\n",
      "  [0.27596158 0.42178761 0.29287121 0.637048  ]\n",
      "  [0.76348646 0.44779203 0.24849761 0.1510944 ]]]\n"
     ]
    }
   ],
   "source": [
    "# 2 arrays with 3 rows and 4 columns[6]\n",
    "array = np.random.rand(2, 3, 4) \n",
    "print(\"3D Array filled with random values : \\n\", array);"
   ]
  },
  {
   "cell_type": "markdown",
   "metadata": {},
   "source": [
    "#### Randn (numpy.random.randn)"
   ]
  },
  {
   "cell_type": "markdown",
   "metadata": {},
   "source": [
    "Generates an array of a specified shape and fills the shape with random values. Numpy.random.randn function returns sample(or samples) from the \"standard\" normal distribution. If positive arguments are provided, randn generates an array of shape (d0, d1, …, dn), filled with random floats sampled from a univariate “normal” (Gaussian) distribution of mean 0 and variance 1 [7]."
   ]
  },
  {
   "cell_type": "code",
   "execution_count": 23,
   "metadata": {},
   "outputs": [
    {
     "name": "stdout",
     "output_type": "stream",
     "text": [
      "1D Array filled with random values : \n",
      " [ 0.50664156  0.75958723  1.08736026 -0.92332479  1.65755159]\n"
     ]
    }
   ],
   "source": [
    "# 1D array[7]\n",
    "array = np.random.randn(5) \n",
    "print(\"1D Array filled with random values : \\n\", array);"
   ]
  },
  {
   "cell_type": "code",
   "execution_count": 24,
   "metadata": {},
   "outputs": [
    {
     "name": "stdout",
     "output_type": "stream",
     "text": [
      "2D Array filled with random values : \n",
      " [[ 0.3575174   0.91797758  0.62015904 -0.48832602  0.74387761 -0.43600861]\n",
      " [ 0.31153168 -0.36810246 -1.33878721 -0.03944724 -0.67209666  1.15192751]\n",
      " [ 2.3298425  -0.46094981  0.56331558 -1.26043565  0.6627787   0.22856674]\n",
      " [-0.15899755 -1.01905059 -0.30057297 -0.0789243  -0.05874416  1.31311373]]\n"
     ]
    }
   ],
   "source": [
    "# 2D Array[7]    \n",
    "array = np.random.randn(4, 6) \n",
    "print(\"2D Array filled with random values : \\n\", array);"
   ]
  },
  {
   "cell_type": "code",
   "execution_count": 25,
   "metadata": {},
   "outputs": [
    {
     "name": "stdout",
     "output_type": "stream",
     "text": [
      "3D Array filled with random values : \n",
      " [[[ 0.14443886  0.04687765]\n",
      "  [ 0.90209951 -1.83233517]]\n",
      "\n",
      " [[ 0.65182686  0.14718745]\n",
      "  [ 0.9102385   1.75238156]]]\n"
     ]
    }
   ],
   "source": [
    "# 3D Array[7]      \n",
    "array = np.random.randn(2, 2 ,2) \n",
    "print(\"3D Array filled with random values : \\n\", array); "
   ]
  },
  {
   "cell_type": "markdown",
   "metadata": {},
   "source": [
    "<br>\n",
    "\n",
    "#### References\n",
    "****"
   ]
  },
  {
   "cell_type": "code",
   "execution_count": null,
   "metadata": {},
   "outputs": [],
   "source": [
    "[1]. Freecodecamp. https://www.freecodecamp.org/news/the-ultimate-guide-to-the-numpy-scientific-computing-library-for-python/\n",
    "\n",
    "[2]. Getting Started with Python Data Analysis. https://subscription.packtpub.com/book/big_data_and_business_intelligence/9781785285110/2/ch02lvl1sec16/numpy-random-numbers\n",
    "\n",
    "[3]. NumPy.org https://numpy.org/doc/stable/reference/random/index.html\n",
    "\n",
    "[4]. Investopedia https://www.investopedia.com/terms/s/simple-random-sample.asp\n",
    "\n",
    "[5]. docs.scipy.org https://docs.scipy.org/doc/numpy-1.15.0/reference/generated/numpy.random.rand.html#numpy.random.rand\n",
    "\n",
    "[6]. geeksforgeeks.org https://www.geeksforgeeks.org/numpy-random-rand-python/\n",
    "    \n",
    "[7]. geeksforgeeks.org https://www.geeksforgeeks.org/numpy-random-randn-python/?ref=lbp\n"
   ]
  }
 ],
 "metadata": {
  "kernelspec": {
   "display_name": "Python 3",
   "language": "python",
   "name": "python3"
  },
  "language_info": {
   "codemirror_mode": {
    "name": "ipython",
    "version": 3
   },
   "file_extension": ".py",
   "mimetype": "text/x-python",
   "name": "python",
   "nbconvert_exporter": "python",
   "pygments_lexer": "ipython3",
   "version": "3.8.3"
  }
 },
 "nbformat": 4,
 "nbformat_minor": 4
}
