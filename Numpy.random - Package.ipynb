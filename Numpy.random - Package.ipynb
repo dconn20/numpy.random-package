{
 "cells": [
  {
   "cell_type": "markdown",
   "metadata": {},
   "source": [
    "# NumPy.random- Package\n",
    "***\n"
   ]
  },
  {
   "cell_type": "markdown",
   "metadata": {},
   "source": [
    "<br/>\n",
    "\n",
    "#### Imported Packages\n"
   ]
  },
  {
   "cell_type": "code",
   "execution_count": 2,
   "metadata": {},
   "outputs": [],
   "source": [
    "import numpy as np\n",
    "import seaborn as sns\n",
    "import matplotlib.pyplot as plt"
   ]
  },
  {
   "cell_type": "markdown",
   "metadata": {},
   "source": [
    "## 1. Explain the overall purpose of the package.\n",
    "***"
   ]
  },
  {
   "cell_type": "markdown",
   "metadata": {},
   "source": [
    "NumPy is a Python library that is seen as the fundamental package for scientific computing. NumPy stands for Numerical Python and it is an extension of Numeric and Numarray. It is mostly used when working with arrays but also has functions for working in the domain of linear algebra, fourier transform and matrices. The main benefit of NumPy is that it allows for extremely fast data generation and handling. It has its own built-in data structure called an array which can store and operate on data much more efficiently. NumPy is such an important Python library that there are other libraries, such as pandas, that are built entirely on NumPy[1]. \n",
    "\n",
    "\n",
    "\n",
    "When dealing with simulation the ability to generate random numbers is very important and NumPy provides various routines in the submodule random (numpy.random). It uses a particular algorithm, called the Mersenne Twister, to generate pseudorandom numbers. An initial value known as the seed determines the output produced by the algorithm. For any given seed the same random output will be produced, hence the term 'pseudo'. Without knowing the seed it will be difficult for an observer to predict the output. A truly random generator would always produce an unpredictable outcome[2]. Numpy’s random number routines produce pseudorandom numbers using combinations of a BitGenerator to create sequences and a Generator to use those sequences to sample from different statistical distributions[3]. \n",
    "\n",
    "When conducting data analysis from time to time we may need to generate a large number of values or even an entire dataset of values and the numpy.random sub package allows us to do this.  \n"
   ]
  },
  {
   "cell_type": "markdown",
   "metadata": {},
   "source": [
    "<br/>\n",
    "\n",
    "## 2. Explain the use of the “Simple random data” and “Permutations” functions.\n",
    "***"
   ]
  },
  {
   "cell_type": "markdown",
   "metadata": {},
   "source": [
    "### Simple Random Data:"
   ]
  },
  {
   "cell_type": "markdown",
   "metadata": {},
   "source": [
    "Simple random sample is a subset of a statistical population in which each member of the subset has an equal probability of being chosen[4]. It is seen as a sampling technique where every item in the population has an even chance and likelihood of being selected in the sample. It is also important to remember that most random data generated with computer programs is not seen as random in the scientific sense and are known as pseudo random. Random numbers generated through a generation algorithm are called pseudo random.\n",
    "\n",
    "The NumPy random package contains multiple functions for generating random data such as:\n",
    "\n",
    "##### Rand (numpy.random.rand)\n",
    "\n",
    "The numpy.random.rand function creates an array of specified shape and fills it with random values. It generates random samples from a uniform distribution over [0, 1] so all values are equally as likely to be selected[5]. The function returns random numbers in an array of the given dimensions(the amount of rows and columns). Each time the function is ran it will give back a different selection of numbers."
   ]
  },
  {
   "cell_type": "markdown",
   "metadata": {},
   "source": [
    "**Creating a 1D array**"
   ]
  },
  {
   "cell_type": "code",
   "execution_count": 12,
   "metadata": {},
   "outputs": [
    {
     "name": "stdout",
     "output_type": "stream",
     "text": [
      "1D Array filled with random values : \n",
      " [0.22906575 0.97483451 0.4729886 ]\n"
     ]
    }
   ],
   "source": [
    "# A single array with 3 values[6]\n",
    "array = np.random.rand(3)\n",
    "print(\"1D Array filled with random values : \\n\", array);"
   ]
  },
  {
   "cell_type": "markdown",
   "metadata": {},
   "source": [
    "**Creating a 2D array**"
   ]
  },
  {
   "cell_type": "code",
   "execution_count": 13,
   "metadata": {},
   "outputs": [
    {
     "name": "stdout",
     "output_type": "stream",
     "text": [
      "2D Array filled with random values : \n",
      " [[0.8918712  0.20933965 0.5836829  0.31013611 0.98266243]\n",
      " [0.0719549  0.49426908 0.29125648 0.00546772 0.75559399]\n",
      " [0.53719878 0.80757579 0.4471555  0.22091266 0.90517912]]\n"
     ]
    }
   ],
   "source": [
    "# 3 arrays each with 5 values\n",
    "array = np.random.rand(3, 5) \n",
    "print(\"2D Array filled with random values : \\n\", array); "
   ]
  },
  {
   "cell_type": "markdown",
   "metadata": {},
   "source": [
    "**Creating a 3D array**"
   ]
  },
  {
   "cell_type": "code",
   "execution_count": 26,
   "metadata": {},
   "outputs": [
    {
     "name": "stdout",
     "output_type": "stream",
     "text": [
      "3D Array filled with random values : \n",
      " [[[0.75988842 0.56996897 0.42509496 0.47507891]\n",
      "  [0.95849959 0.89422597 0.0494144  0.81945015]\n",
      "  [0.14971112 0.0271685  0.0172001  0.20296753]]\n",
      "\n",
      " [[0.00888596 0.3698368  0.86398023 0.07258518]\n",
      "  [0.27596158 0.42178761 0.29287121 0.637048  ]\n",
      "  [0.76348646 0.44779203 0.24849761 0.1510944 ]]]\n"
     ]
    }
   ],
   "source": [
    "# 2 arrays with 3 rows and 4 values\n",
    "array = np.random.rand(2, 3, 4) \n",
    "print(\"3D Array filled with random values : \\n\", array);"
   ]
  },
  {
   "cell_type": "markdown",
   "metadata": {},
   "source": [
    "#### Randn (numpy.random.randn)"
   ]
  },
  {
   "cell_type": "markdown",
   "metadata": {},
   "source": [
    "Generates an array of a specified shape and fills the shape with random values. Numpy.random.randn function returns sample(or samples) from the \"standard\" normal distribution. If positive arguments are provided, randn generates an array of shape (d0, d1, …, dn), filled with random floats sampled from a univariate “normal” (Gaussian) distribution of mean 0 and variance 1 [7]."
   ]
  },
  {
   "cell_type": "code",
   "execution_count": 23,
   "metadata": {},
   "outputs": [
    {
     "name": "stdout",
     "output_type": "stream",
     "text": [
      "1D Array filled with random values : \n",
      " [ 0.50664156  0.75958723  1.08736026 -0.92332479  1.65755159]\n"
     ]
    }
   ],
   "source": [
    "# 1D array\n",
    "array = np.random.randn(5) \n",
    "print(\"1D Array filled with random values : \\n\", array);"
   ]
  },
  {
   "cell_type": "code",
   "execution_count": 24,
   "metadata": {},
   "outputs": [
    {
     "name": "stdout",
     "output_type": "stream",
     "text": [
      "2D Array filled with random values : \n",
      " [[ 0.3575174   0.91797758  0.62015904 -0.48832602  0.74387761 -0.43600861]\n",
      " [ 0.31153168 -0.36810246 -1.33878721 -0.03944724 -0.67209666  1.15192751]\n",
      " [ 2.3298425  -0.46094981  0.56331558 -1.26043565  0.6627787   0.22856674]\n",
      " [-0.15899755 -1.01905059 -0.30057297 -0.0789243  -0.05874416  1.31311373]]\n"
     ]
    }
   ],
   "source": [
    "# 2D Array    \n",
    "array = np.random.randn(4, 6) \n",
    "print(\"2D Array filled with random values : \\n\", array);"
   ]
  },
  {
   "cell_type": "code",
   "execution_count": 25,
   "metadata": {},
   "outputs": [
    {
     "name": "stdout",
     "output_type": "stream",
     "text": [
      "3D Array filled with random values : \n",
      " [[[ 0.14443886  0.04687765]\n",
      "  [ 0.90209951 -1.83233517]]\n",
      "\n",
      " [[ 0.65182686  0.14718745]\n",
      "  [ 0.9102385   1.75238156]]]\n"
     ]
    }
   ],
   "source": [
    "# 3D Array      \n",
    "array = np.random.randn(2, 2 ,2) \n",
    "print(\"3D Array filled with random values : \\n\", array); "
   ]
  },
  {
   "cell_type": "markdown",
   "metadata": {},
   "source": [
    "<br/>\n",
    "\n",
    "#### Randint (numpy.random.randint)"
   ]
  },
  {
   "cell_type": "markdown",
   "metadata": {},
   "source": [
    "The numpy.random.randint function returns random integers from low (inclusive) to high (exclusive) using the uniform distribution. The function also takes a size parameter. \n",
    "\n",
    "        Low: Sets the lowest integer to be taken from (Start). If there is no high value the low becomes the highest.\n",
    "        High: Largest integer to be drawn from (End). This is optional, if excuded the default value will be 0, low. \n",
    "        Size: Refers to the output shape.\n",
    "        Dtype: Set dtype of result. All dtypes are determined by their names with the default value set to 'int'[8].\n",
    "\n",
    "\n"
   ]
  },
  {
   "cell_type": "code",
   "execution_count": 6,
   "metadata": {},
   "outputs": [
    {
     "name": "stdout",
     "output_type": "stream",
     "text": [
      "[1 1 1 3 2]\n"
     ]
    }
   ],
   "source": [
    "# Create an array\n",
    "# 1 will be included and 5 excluded\n",
    "arr = np.random.randint(low = 1, high = 5, size = 5) \n",
    "print (arr)"
   ]
  },
  {
   "cell_type": "code",
   "execution_count": 11,
   "metadata": {},
   "outputs": [
    {
     "name": "stdout",
     "output_type": "stream",
     "text": [
      "[ 5 18 16  4 16 16 13  7  9 17]\n"
     ]
    }
   ],
   "source": [
    "# Generate random numbers between 0 and 20\n",
    "# No high value so default set to (0, low)\n",
    "arr = np.random.randint(low = 20, size = 10)\n",
    "print (arr)"
   ]
  },
  {
   "cell_type": "markdown",
   "metadata": {},
   "source": [
    "<br/>\n",
    "\n",
    "#### Random_integers (numpy.random.random_integers)"
   ]
  },
  {
   "cell_type": "markdown",
   "metadata": {},
   "source": [
    "The random_integers function works similar to randint, but 1 is the lowest value if the high value is omitted. This function has been deprecated and replaced by randint[9]."
   ]
  },
  {
   "cell_type": "code",
   "execution_count": 12,
   "metadata": {},
   "outputs": [
    {
     "name": "stderr",
     "output_type": "stream",
     "text": [
      "<ipython-input-12-7cf0d8ba9091>:2: DeprecationWarning: This function is deprecated. Please call randint(1, 10 + 1) instead\n",
      "  np.random.random_integers(10)\n"
     ]
    },
    {
     "data": {
      "text/plain": [
       "7"
      ]
     },
     "execution_count": 12,
     "metadata": {},
     "output_type": "execute_result"
    }
   ],
   "source": [
    "# Generate random numbers between 1 and 10\n",
    "# You are told to use the randint function instead\n",
    "np.random.random_integers(10)"
   ]
  },
  {
   "cell_type": "markdown",
   "metadata": {},
   "source": [
    "<br/>\n",
    "\n",
    "#### Random_sample (numpy.random.random_sample)"
   ]
  },
  {
   "cell_type": "markdown",
   "metadata": {},
   "source": [
    "Random_sample returns an array of random floats from the continuous unifrom distribution. It returns in the interval (0.0, 0.1) or just a single random float if no size values are provided [10]. Other functions such as random, sample and ranf can give the same output as random_sample. "
   ]
  },
  {
   "cell_type": "code",
   "execution_count": 23,
   "metadata": {},
   "outputs": [
    {
     "data": {
      "text/plain": [
       "0.8664156598232672"
      ]
     },
     "execution_count": 23,
     "metadata": {},
     "output_type": "execute_result"
    }
   ],
   "source": [
    "# Generate a random number\n",
    "np.random.random_sample()"
   ]
  },
  {
   "cell_type": "code",
   "execution_count": 13,
   "metadata": {},
   "outputs": [
    {
     "data": {
      "text/plain": [
       "array([0.48797723, 0.83550932, 0.30937183, 0.96582406, 0.42781763,\n",
       "       0.48864244, 0.61867667, 0.74447225, 0.62200408, 0.93062535])"
      ]
     },
     "execution_count": 13,
     "metadata": {},
     "output_type": "execute_result"
    }
   ],
   "source": [
    "# Generate 10 random numbers\n",
    "np.random.random_sample(10)"
   ]
  },
  {
   "cell_type": "code",
   "execution_count": 21,
   "metadata": {},
   "outputs": [
    {
     "data": {
      "text/plain": [
       "array([[0.50267754, 0.04949393, 0.08481763, 0.63193376, 0.98123391]])"
      ]
     },
     "execution_count": 21,
     "metadata": {},
     "output_type": "execute_result"
    }
   ],
   "source": [
    "# Create 2D array\n",
    "np.random.random_sample(size =(1, 5)) \n"
   ]
  },
  {
   "cell_type": "code",
   "execution_count": 22,
   "metadata": {},
   "outputs": [
    {
     "data": {
      "text/plain": [
       "array([[[0.63535751],\n",
       "        [0.5863342 ]],\n",
       "\n",
       "       [[0.46492783],\n",
       "        [0.71559493]],\n",
       "\n",
       "       [[0.3000382 ],\n",
       "        [0.32415411]]])"
      ]
     },
     "execution_count": 22,
     "metadata": {},
     "output_type": "execute_result"
    }
   ],
   "source": [
    "# Create 3D array\n",
    "np.random.random_sample ((3, 2, 1))"
   ]
  },
  {
   "cell_type": "code",
   "execution_count": 28,
   "metadata": {},
   "outputs": [
    {
     "data": {
      "text/plain": [
       "array([0.09666208, 0.21574717, 0.25955884, 0.07826331, 0.74444178])"
      ]
     },
     "execution_count": 28,
     "metadata": {},
     "output_type": "execute_result"
    }
   ],
   "source": [
    "# Using Random\n",
    "np.random.random(5)"
   ]
  },
  {
   "cell_type": "code",
   "execution_count": 27,
   "metadata": {},
   "outputs": [
    {
     "data": {
      "text/plain": [
       "array([0.63209601, 0.3923391 , 0.57509555, 0.11130881, 0.29877547])"
      ]
     },
     "execution_count": 27,
     "metadata": {},
     "output_type": "execute_result"
    }
   ],
   "source": [
    "# Using Sample\n",
    "np.random.sample(5)"
   ]
  },
  {
   "cell_type": "code",
   "execution_count": 29,
   "metadata": {},
   "outputs": [
    {
     "data": {
      "text/plain": [
       "array([0.80565152, 0.93671337, 0.35750408, 0.43448462, 0.41949444])"
      ]
     },
     "execution_count": 29,
     "metadata": {},
     "output_type": "execute_result"
    }
   ],
   "source": [
    "# Using Ranf\n",
    "np.random.ranf(5)"
   ]
  },
  {
   "cell_type": "markdown",
   "metadata": {},
   "source": [
    "<br/>\n",
    "\n",
    "#### Choice (numpy.random.choice)\n"
   ]
  },
  {
   "cell_type": "markdown",
   "metadata": {},
   "source": [
    "The Choice function allows you to generate a random sample from an array. Random.choice takes an array as a parameter and randomly returns one of its values, it can also be used to return multiple values. This is uselful when you want to choose multiple items from a particular list[11]. "
   ]
  },
  {
   "cell_type": "code",
   "execution_count": 30,
   "metadata": {},
   "outputs": [
    {
     "data": {
      "text/plain": [
       "array([3, 4, 4])"
      ]
     },
     "execution_count": 30,
     "metadata": {},
     "output_type": "execute_result"
    }
   ],
   "source": [
    "# Generate 3 random numbers between 1 and 5\n",
    "np.random.choice(5, 3)"
   ]
  },
  {
   "cell_type": "code",
   "execution_count": 34,
   "metadata": {},
   "outputs": [
    {
     "data": {
      "text/plain": [
       "'bird'"
      ]
     },
     "execution_count": 34,
     "metadata": {},
     "output_type": "execute_result"
    }
   ],
   "source": [
    "animal = ['dog', 'cat', 'bear', 'lion', 'ape', 'bird']\n",
    "\n",
    "# Get on random sample from list\n",
    "np.random.choice(animal)"
   ]
  },
  {
   "cell_type": "code",
   "execution_count": 35,
   "metadata": {},
   "outputs": [
    {
     "data": {
      "text/plain": [
       "array(['cat', 'lion', 'ape'], dtype='<U4')"
      ]
     },
     "execution_count": 35,
     "metadata": {},
     "output_type": "execute_result"
    }
   ],
   "source": [
    "# Get 3 random samples from the list\n",
    "np.random.choice(animal, 3)"
   ]
  },
  {
   "cell_type": "code",
   "execution_count": 36,
   "metadata": {},
   "outputs": [
    {
     "data": {
      "text/plain": [
       "array([['lion', 'ape'],\n",
       "       ['bird', 'bear'],\n",
       "       ['ape', 'ape']], dtype='<U4')"
      ]
     },
     "execution_count": 36,
     "metadata": {},
     "output_type": "execute_result"
    }
   ],
   "source": [
    "# Create a random array with 3 rows and 2 columns\n",
    "np.random.choice(animal,(3,2))"
   ]
  },
  {
   "cell_type": "markdown",
   "metadata": {},
   "source": [
    "<br/>\n",
    "\n",
    "#### Bytes (numpy.random.bytes)"
   ]
  },
  {
   "cell_type": "markdown",
   "metadata": {},
   "source": [
    "The bytes function returns random bytes and you can set the lenght of the output."
   ]
  },
  {
   "cell_type": "code",
   "execution_count": 46,
   "metadata": {},
   "outputs": [
    {
     "data": {
      "text/plain": [
       "b'\\xd1\\xd07V\\x87\\x07\\xaeTg\\xf3'"
      ]
     },
     "execution_count": 46,
     "metadata": {},
     "output_type": "execute_result"
    }
   ],
   "source": [
    "np.random.bytes(10)"
   ]
  },
  {
   "cell_type": "markdown",
   "metadata": {},
   "source": [
    "<br/>\n",
    "<br/>\n",
    "\n",
    "### Permutations:"
   ]
  },
  {
   "cell_type": "markdown",
   "metadata": {},
   "source": [
    "A permutation refers to an arrangement of elements. e.g. 3,2,1 is a permutation of 1,2,3 and vice-versa. The NumPy Random module provides two methods for this, shuffle and permutation[12]."
   ]
  },
  {
   "cell_type": "markdown",
   "metadata": {},
   "source": [
    "<br/>\n",
    "\n",
    "#### Shuffle (numpy.random.shuffle)"
   ]
  },
  {
   "cell_type": "markdown",
   "metadata": {},
   "source": [
    "The shuffle function is used to modify a sequence by shuffling its contents. It changes the arrangement of elements in the array itself but the contents always remain the same. The function only shuffles along the first axis of a multi-dimensional array[13].   "
   ]
  },
  {
   "cell_type": "code",
   "execution_count": 85,
   "metadata": {},
   "outputs": [
    {
     "data": {
      "text/plain": [
       "['bear', 'dog', 'cat', 'lion', 'ape', 'bird']"
      ]
     },
     "execution_count": 85,
     "metadata": {},
     "output_type": "execute_result"
    }
   ],
   "source": [
    "# Shuffle a list\n",
    "animal = ['dog', 'cat', 'bear', 'lion', 'ape', 'bird']\n",
    "\n",
    "np.random.shuffle(animal)\n",
    "animal"
   ]
  },
  {
   "cell_type": "markdown",
   "metadata": {},
   "source": [
    "<br/>\n",
    "\n",
    "#### Permutation (numpy.random.permutation)\n"
   ]
  },
  {
   "cell_type": "markdown",
   "metadata": {},
   "source": [
    "Permutation is used to randomly permute a sequence or return a permuted range. If used on a multi-dimensional array it is only shuffled along its first index. The permutation functions returns a rearranged array but unlike shuffle it leaves the original array unchanged[14]."
   ]
  },
  {
   "cell_type": "code",
   "execution_count": 94,
   "metadata": {},
   "outputs": [
    {
     "data": {
      "text/plain": [
       "['dog', 'cat', 'bear', 'lion', 'ape', 'bird']"
      ]
     },
     "execution_count": 94,
     "metadata": {},
     "output_type": "execute_result"
    }
   ],
   "source": [
    "# Using Permutation\n",
    "animal = ['dog', 'cat', 'bear', 'lion', 'ape', 'bird']\n",
    "\n",
    "np.random.permutation(animal)\n",
    "animal"
   ]
  },
  {
   "cell_type": "markdown",
   "metadata": {},
   "source": [
    "<br/>\n",
    "<br/>\n",
    "\n",
    "## 3. Explain the use and purpose of at least five “Distributions” functions.\n",
    "***"
   ]
  },
  {
   "cell_type": "markdown",
   "metadata": {},
   "source": [
    "Porobability distributions allow Data Scientists to recognise patterns in random variables. Most data science or machine learning skills are based on assumptions about the distribution of your data[15]. There are two main types of distribution, discreet and continuous.\n",
    "\n",
    "A discrete distribution is a distribution of data that has discrete values. Discrete values are countable, finite, non-negative integers, such as 1, 10, 15, etc. It is used in data research by statisticians to identify the outcome and probabilities of a particular study. The most common discrete probability distributions include Binomial, Poisson, Bernoulli, and Multinomial[16].\n",
    "\n",
    "A continuous distribution describes the probabilities of the possible values of a continuous random variable. A continuous random variable is a random variable with a set of possible values (range) that is infinite and uncountable[17]. Normal, Uniform, Chi Square and T Distribution are all examples of continuous distributions. "
   ]
  },
  {
   "cell_type": "markdown",
   "metadata": {},
   "source": [
    "<br/>\n",
    "\n",
    "### Five Distributions"
   ]
  },
  {
   "cell_type": "markdown",
   "metadata": {},
   "source": [
    "<br/>\n",
    "\n",
    "#### Binomial (numpy.random.binomial)"
   ]
  },
  {
   "cell_type": "markdown",
   "metadata": {},
   "source": [
    "Binomial distribution is a based on the Bernoulli distribution and is seen as the probability of success or failure in an experiment or survey that is repeated multiple times. The probality of success and failure is exactly the same from one trial to another and there are only ever two possible outcomes. The parameters of a binomial distribution are n and p where n is the total number of trials and p is the probability of success in each trial[18]. "
   ]
  },
  {
   "cell_type": "code",
   "execution_count": 17,
   "metadata": {},
   "outputs": [
    {
     "data": {
      "text/plain": [
       "array([6, 5, 5, 6, 5, 6, 7, 7, 4, 5, 4, 4, 1, 7, 3, 6, 7, 5, 5, 4, 5, 5,\n",
       "       6, 5, 3, 6, 5, 8, 3, 5, 6, 8, 4, 5, 4, 7, 8, 5, 6, 6, 5, 4, 7, 7,\n",
       "       7, 7, 5, 6, 6, 4, 7, 3, 4, 7, 3, 7, 3, 2, 6, 4, 6, 2, 8, 6, 5, 7,\n",
       "       3, 4, 5, 6, 6, 5, 4, 8, 4, 4, 7, 5, 6, 7, 5, 5, 3, 7, 7, 5, 3, 6,\n",
       "       4, 5, 5, 3, 5, 7, 5, 3, 6, 3, 5, 4])"
      ]
     },
     "execution_count": 17,
     "metadata": {},
     "output_type": "execute_result"
    }
   ],
   "source": [
    "# result of flipping a coin 10 times, tested 100 times\n",
    "ans = np.random.binomial(10, .5, 100)\n",
    "ans"
   ]
  },
  {
   "cell_type": "code",
   "execution_count": 10,
   "metadata": {},
   "outputs": [
    {
     "data": {
      "text/plain": [
       "Text(0, 0.5, 'Heads success rate')"
      ]
     },
     "execution_count": 10,
     "metadata": {},
     "output_type": "execute_result"
    },
    {
     "data": {
      "image/png": "[encoded data removed]",
      "text/plain": [
       "<Figure size 1008x504 with 1 Axes>"
      ]
     },
     "metadata": {
      "needs_background": "light"
     },
     "output_type": "display_data"
    }
   ],
   "source": [
    "# Coin toss trial function which displays binomial distribution [19]\n",
    "\n",
    "# Number of trials\n",
    "trials = 1000\n",
    "# Number of independent experiments in each trial\n",
    "n = 10\n",
    "# Probability of success for each experiment\n",
    "p = 0.5\n",
    "# heads is a list of the number of successes from each trial of n experiments\n",
    "def binom(trials, n, p):\n",
    "    heads = []\n",
    "    for i in range(trials):\n",
    "        tosses = [np.random.random() for i in range(n)]\n",
    "        heads.append(len([i for i in tosses if i>=0.50]))\n",
    "    return heads\n",
    "# Run the function\n",
    "heads = binom(trials, n, p)\n",
    "# Plot the results as a histogram\n",
    "fig, ax = plt.subplots(figsize=(14,7))\n",
    "ax = sns.histplot(heads, bins=11, label='simulation results')\n",
    "ax.set_xlabel(\"Number of Heads\",fontsize=16)\n",
    "ax.set_ylabel(\"Heads success rate\",fontsize=16)"
   ]
  },
  {
   "cell_type": "markdown",
   "metadata": {},
   "source": [
    "<br/>\n",
    "\n",
    "#### Poisson (numpy.random.poisson)"
   ]
  },
  {
   "cell_type": "markdown",
   "metadata": {},
   "source": [
    "A Poisson distribution is a discreet distribution which counts how many times an event is likely to occur within a specified period of time. It is used for independent events which occur within a given interval of time. The Poisson distribution is a discrete function, meaning that the event can only be measured as occurring or not as occurring and the variable can only be measured in whole numbers[20]. It takes two arguments:\n",
    "\n",
    "    lam - rate or known number of occurences\n",
    "    size - the shape of the returned array\n"
   ]
  },
  {
   "cell_type": "code",
   "execution_count": 31,
   "metadata": {},
   "outputs": [
    {
     "data": {
      "image/png": "[encoded data removed]",
      "text/plain": [
       "<Figure size 432x288 with 1 Axes>"
      ]
     },
     "metadata": {
      "needs_background": "light"
     },
     "output_type": "display_data"
    }
   ],
   "source": [
    "# Draw samples from the distribution and display with histogram [21].\n",
    "np.random.poisson(5, 10000)\n",
    "count, bins, ignored = plt.hist(s, 14, density=True)\n",
    "plt.show()"
   ]
  },
  {
   "cell_type": "markdown",
   "metadata": {},
   "source": [
    "<br/>\n",
    "\n",
    "##### Difference Between Poisson and Binomial Distribution"
   ]
  },
  {
   "cell_type": "markdown",
   "metadata": {},
   "source": [
    "Binomial distribution and Poisson distribution have some simularities but also a very subtle difference. Binomial distribution is for discrete trials, whereas poisson distribution is for continuous trials. Binomial has two possible outcomes whereas Poisson has an unlimited number of outcomes and Binomial distribution has a constant success probability while Poisson distribution has a small number of success chances[22]. "
   ]
  },
  {
   "cell_type": "markdown",
   "metadata": {},
   "source": [
    "<br/>\n",
    "\n",
    "#### Normal (numpy.random.normal)"
   ]
  },
  {
   "cell_type": "markdown",
   "metadata": {},
   "source": [
    "The Normal Distribution is one of the most important distributions. It is also called the Gaussian Distribution after the German mathematician Carl Friedrich Gauss. It fits the probability distribution of many events, eg. IQ Scores, Heartbeat etc[24]. In normal distributution most of the observsations cluster around a central value and are less likely to occur the further you get from the value. The plot of normally distributed data is often referred to as a bell curve due to its distinctive bell shape. It has three parameters:\n",
    "        \n",
    "        loc - (Mean) where the peak of the bell exists.\n",
    "\n",
    "        scale - (Standard Deviation) how flat the graph distribution should be.\n",
    "\n",
    "        size - The shape of the returned array."
   ]
  },
  {
   "cell_type": "code",
   "execution_count": 28,
   "metadata": {},
   "outputs": [
    {
     "data": {
      "image/png": "[encoded data removed]",
      "text/plain": [
       "<Figure size 432x288 with 1 Axes>"
      ]
     },
     "metadata": {
      "needs_background": "light"
     },
     "output_type": "display_data"
    }
   ],
   "source": [
    "# Draw examples from the distribution[25].\n",
    "\n",
    "# mean and standard deviation\n",
    "mu, sigma = 0, 0.3\n",
    "# draw 10000 numbers in a normal distribution with mean = 0, standard deviation = 0.3\n",
    "s = np.random.normal(mu, sigma, 10000) \n",
    "# plot histogram of data\n",
    "plt.hist(s) \n",
    "# set x-axes labels between -4 and 5 in steps of 1\n",
    "plt.xticks(np.arange(-4, 5, step=1))\n",
    "plt.show() "
   ]
  },
  {
   "cell_type": "code",
   "execution_count": 45,
   "metadata": {},
   "outputs": [
    {
     "name": "stderr",
     "output_type": "stream",
     "text": [
      "C:\\Users\\damie\\anaconda3\\lib\\site-packages\\seaborn\\distributions.py:2551: FutureWarning: `distplot` is a deprecated function and will be removed in a future version. Please adapt your code to use either `displot` (a figure-level function with similar flexibility) or `kdeplot` (an axes-level function for kernel density plots).\n",
      "  warnings.warn(msg, FutureWarning)\n"
     ]
    },
    {
     "data": {
      "image/png": "[encoded data removed]",
      "text/plain": [
       "<Figure size 432x288 with 1 Axes>"
      ]
     },
     "metadata": {
      "needs_background": "light"
     },
     "output_type": "display_data"
    }
   ],
   "source": [
    "# Visualization of Normal Distribution\n",
    "\n",
    "sns.distplot(np.random.normal(size=1000), hist=False)\n",
    "\n",
    "plt.show()"
   ]
  },
  {
   "cell_type": "markdown",
   "metadata": {},
   "source": [
    "<br/>\n",
    "\n",
    "#### Uniform (numpy.random.uniform)"
   ]
  },
  {
   "cell_type": "markdown",
   "metadata": {},
   "source": [
    "Numpy.random.unifrom draws samples from a uniform distribution. In a uniform distribution all values have an equal chance of occurring. Its parameters are:\n",
    "\n",
    "        low: Values Generated will be greater than or equal to low. Default is 0.\n",
    "        high: Values generated will be less than high. The default value is 1.0.\n",
    "        size: Output the shape. Default(none) will return single values[26]. "
   ]
  },
  {
   "cell_type": "code",
   "execution_count": 41,
   "metadata": {},
   "outputs": [
    {
     "data": {
      "image/png": "[encoded data removed]",
      "text/plain": [
       "<Figure size 432x288 with 1 Axes>"
      ]
     },
     "metadata": {
      "needs_background": "light"
     },
     "output_type": "display_data"
    }
   ],
   "source": [
    "# Draw samples from the distribution\n",
    "x = np.random.uniform(-1,0,1000)\n",
    "\n",
    "# Display the histogram of the samples, along with the probability density function\n",
    "count, bins, ignored = plt.hist(x, 15, density=True)\n",
    "plt.plot(bins, np.ones_like(bins), linewidth=2, color='r')\n",
    "plt.show()\n"
   ]
  },
  {
   "cell_type": "markdown",
   "metadata": {},
   "source": [
    "<br/>\n",
    "\n",
    "#### Chi Square (numpy.random.chisquare)"
   ]
  },
  {
   "cell_type": "markdown",
   "metadata": {},
   "source": [
    "<br>\n",
    "\n",
    "#### References\n",
    "****"
   ]
  },
  {
   "cell_type": "markdown",
   "metadata": {},
   "source": [
    "[1]. Freecodecamp. https://www.freecodecamp.org/news/the-ultimate-guide-to-the-numpy-scientific-computing-library-for-python/\n",
    "\n",
    "[2]. Getting Started with Python Data Analysis. https://subscription.packtpub.com/book/big_data_and_business_intelligence/9781785285110/2/ch02lvl1sec16/numpy-random-numbers\n",
    "\n",
    "[3]. NumPy.org https://numpy.org/doc/stable/reference/random/index.html\n",
    "\n",
    "[4]. Investopedia https://www.investopedia.com/terms/s/simple-random-sample.asp\n",
    "\n",
    "[5]. docs.scipy.org https://docs.scipy.org/doc/numpy-1.15.0/reference/generated/numpy.random.rand.html#numpy.random.rand\n",
    "\n",
    "[6]. geeksforgeeks.org https://www.geeksforgeeks.org/numpy-random-rand-python/\n",
    "    \n",
    "[7]. geeksforgeeks.org https://www.geeksforgeeks.org/numpy-random-randn-python/?ref=lbp\n",
    "\n",
    "[8]. docs.scipy.org https://docs.scipy.org/doc/numpy-1.15.0/reference/generated/numpy.random.randint.html\n",
    "\n",
    "[9]. docs.scipy.org https://docs.scipy.org/doc/numpy-1.15.0/reference/generated/numpy.random.random_integers.html#numpy.random.random_integers\n",
    "\n",
    "[10]. docs.scipy.org https://docs.scipy.org/doc/numpy-1.15.0/reference/generated/numpy.random.random_sample.html#numpy.random.random_sample\n",
    "\n",
    "[11]. docs.scipy.org https://docs.scipy.org/doc/numpy-1.15.0/reference/generated/numpy.random.choice.html#numpy.random.choice\n",
    "\n",
    "[12]. w3schools.com https://www.w3schools.com/python/numpy_random_permutation.asp\n",
    "\n",
    "[13]. docs.scipy.org https://docs.scipy.org/doc/numpy-1.15.0/reference/generated/numpy.random.shuffle.html#numpy.random.shuffle\n",
    "\n",
    "[14]. w3schools.com https://www.w3schools.com/python/numpy_random_permutation.asp\n",
    "\n",
    "[15]. kdnuggets.com https://www.kdnuggets.com/2019/07/5-probability-distributions-every-data-scientist-should-know.html\n",
    "\n",
    "[16]. investopedia.com https://www.investopedia.com/terms/d/discrete-distribution.asp\n",
    "\n",
    "[17]. minitab.com https://support.minitab.com/en-us/minitab-express/1/help-and-how-to/basic-statistics/probability-distributions/supporting-topics/basics/continuous-and-discrete-probability-distributions/#:~:text=a%20discrete%20distribution%3F-,What%20is%20a%20continuous%20distribution%3F,that%20is%20infinite%20and%20uncountable.\n",
    "\n",
    "[18]. analyticsvidhya.com https://www.analyticsvidhya.com/blog/2017/09/6-probability-distributions-data-science/\n",
    "\n",
    "[19]. towardsdatascience.com https://towardsdatascience.com/fun-with-the-binomial-distribution-96a5ecabf65b\n",
    "\n",
    "[20]. investopedia.com https://www.investopedia.com/terms/p/poisson-distribution.asp\n",
    "\n",
    "[21]. docs.scipy.com https://docs.scipy.org/doc/numpy-1.15.0/reference/generated/numpy.random.poisson.html#numpy.random.poisson\n",
    "\n",
    "[22]. keydifferences.com https://keydifferences.com/difference-between-binomial-and-poisson-distribution.html\n",
    "\n",
    "[23]. w3schools.com https://www.w3schools.com/python/numpy_random_poisson.asp\n",
    "\n",
    "[24]. w3schools.com https://www.w3schools.com/python/numpy_random_normal.asp\n",
    "\n",
    "[25]. matplotlib.org https://matplotlib.org/3.1.1/api/_as_gen/matplotlib.pyplot.xticks.html\n",
    "\n",
    "[26]. docs.scipy.com https://docs.scipy.org/doc/numpy-1.15.0/reference/generated/numpy.random.uniform.html#numpy.random.uniform\n",
    "\n",
    "\n",
    "\n",
    "\n",
    "\n",
    "\n",
    "\n",
    "\n"
   ]
  }
 ],
 "metadata": {
  "kernelspec": {
   "display_name": "Python 3",
   "language": "python",
   "name": "python3"
  },
  "language_info": {
   "codemirror_mode": {
    "name": "ipython",
    "version": 3
   },
   "file_extension": ".py",
   "mimetype": "text/x-python",
   "name": "python",
   "nbconvert_exporter": "python",
   "pygments_lexer": "ipython3",
   "version": "3.8.3"
  }
 },
 "nbformat": 4,
 "nbformat_minor": 4
}
