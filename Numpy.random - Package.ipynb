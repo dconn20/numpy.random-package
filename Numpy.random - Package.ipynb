{
 "cells": [
  {
   "cell_type": "markdown",
   "metadata": {},
   "source": [
    "# Numpy.random - Package\n",
    "***"
   ]
  },
  {
   "cell_type": "markdown",
   "metadata": {},
   "source": [
    "#### 1. Explain the overall purpose of the package.\n",
    "***"
   ]
  },
  {
   "cell_type": "markdown",
   "metadata": {},
   "source": [
    "NumPy is a Python library used for scientific computing. NumPy stands for Numerical Python, it is an extension of Numeric and Numarray. It is mostly used when working with arrays but also has functions for working in the domain of linear algebra, fourier transform and matrices. The main benefit of NumPy is that it allows for extremely fast data generation and handling. It has its own built-in data structure called an array which can store and operate on data much more efficiently. NumPy is such an important Python library that there are other libraries, such as pandas, that are built entirely on NumPy[1]. \n",
    "\n",
    "\n",
    "\n",
    "As an important part of any simulation is the ability to generate random numbers, NumPy provides various routines in the submodule random (numpy.random). It uses a particular algorithm, called the Mersenne Twister, to generate pseudorandom numbers. An initial value known as the seed determines the output produced by the algorithm. For any given seed the same random output will be produced, hence the term 'pseudo'. Without knowing the seed it will be difficult for an observer to predict the output. A truly random generator would always produce an unpredictable outcome[2]. Numpy’s random number routines produce pseudo random numbers using combinations of a BitGenerator to create sequences and a Generator to use those sequences to sample from different statistical distributions[3]. \n",
    "\n",
    "When conducting data analysis from time to time we may need to generate a large number of values so we can plug a single random value in to a plot or generate an entire dataset of values and the numpy.random sub package allows us to do this.\n"
   ]
  },
  {
   "cell_type": "markdown",
   "metadata": {},
   "source": [
    "<br>\n",
    "\n",
    "#### References\n",
    "****"
   ]
  },
  {
   "cell_type": "markdown",
   "metadata": {},
   "source": [
    "[1]. Freecodecamp. https://www.freecodecamp.org/news/the-ultimate-guide-to-the-numpy-scientific-computing-library-for-python/\n",
    "\n",
    "[2]. Getting Started with Python Data Analysis. https://subscription.packtpub.com/book/big_data_and_business_intelligence/9781785285110/2/ch02lvl1sec16/numpy-random-numbers\n",
    "\n",
    "[3]. NumPy.org. https://numpy.org/doc/stable/reference/random/index.html\n",
    "\n"
   ]
  }
 ],
 "metadata": {
  "kernelspec": {
   "display_name": "Python 3",
   "language": "python",
   "name": "python3"
  },
  "language_info": {
   "codemirror_mode": {
    "name": "ipython",
    "version": 3
   },
   "file_extension": ".py",
   "mimetype": "text/x-python",
   "name": "python",
   "nbconvert_exporter": "python",
   "pygments_lexer": "ipython3",
   "version": "3.8.3"
  }
 },
 "nbformat": 4,
 "nbformat_minor": 4
}
