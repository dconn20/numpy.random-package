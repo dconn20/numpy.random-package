{
 "cells": [
  {
   "cell_type": "markdown",
   "metadata": {},
   "source": [
    "![](numpy.logo.png)"
   ]
  },
  {
   "cell_type": "markdown",
   "metadata": {},
   "source": [
    "   # NumPy.random- Package\n",
    "***\n"
   ]
  },
  {
   "cell_type": "markdown",
   "metadata": {},
   "source": [
    "The purpose of this assignment is to explore and investigate the numpy.random package and its uses in Data Analysis. The assignment is broken down into 4 separate tasks. They are:\n",
    "\n",
    "1. Explain the overall purpose of the package\n",
    "\n",
    "2. Explain the use of the \"Simple random data\" and \"Permutations\" functions\n",
    "\n",
    "3. Explain the use and purpose of at least five \"Distributions\" functions\n",
    "\n",
    "4. Explain the use of seeds in generating pseudorandom numbers"
   ]
  },
  {
   "cell_type": "markdown",
   "metadata": {},
   "source": [
    "<br/>\n",
    "\n",
    "### Imported Packages\n"
   ]
  },
  {
   "cell_type": "code",
   "execution_count": 1,
   "metadata": {},
   "outputs": [],
   "source": [
    "# Packages to be used in this project\n",
    "\n",
    "import numpy as np\n",
    "import seaborn as sns\n",
    "import matplotlib.pyplot as plt\n",
    "\n",
    "# Set seaborn plot style\n",
    "sns.set_style('darkgrid')"
   ]
  },
  {
   "cell_type": "markdown",
   "metadata": {},
   "source": [
    "<br/>\n",
    "\n",
    "## 1. Explain the overall purpose of the package.\n",
    "***"
   ]
  },
  {
   "cell_type": "markdown",
   "metadata": {},
   "source": [
    "NumPy is a Python library that is seen as a fundamental package for scientific computing. NumPy stands for Numerical Python and is an extension of Numeric and Numarray. It contains:\n",
    "\n",
    "   * A powerful N-dimensional array object\n",
    "   * Sophisticated (broadcasting) functions\n",
    "   * Tools for integrating C/C++ and Fortran code\n",
    "   * Useful linear algebra, Fourier transform, and random number capabilities\n",
    "                \n",
    "\n",
    "It is best known for its data structure NumPy array, but also has functions that allow developers to quickly perform a wide variety of numerical computations.<sup>1</sup> When using arrays in NumPy we are able to set the attributes such as size, shape and data type and we can also carry out indexing and slicing functions. NumPy arrays are similar to lists in Python except they are faster and contain more built-in methods. The main benefit of NumPy is that it allows for extremely fast data generation and handling as it can integrate with a wide variety of databases.<sup>2</sup> NumPy is such an important Python library that there are other libraries, such as pandas and SciPy, that are built entirely on NumPy. \n",
    "\n",
    "When dealing with simulation the ability to generate random numbers is very important and NumPy provides various methods to do so in the submodule random (numpy.random). Numpy’s random number module contains some simple random data generation methods, some permutation and distribution functions and random generator functions.<sup>2</sup> The numpy.random module supplements the built-in Python random with functions for generating arrays of random values from different probability distributions. It uses a particular algorithm, called the Mersenne Twister, to generate pseudo random numbers.<sup>3</sup> An initial value known as the seed determines the output produced by the algorithm. For any given seed the same random output will be produced. When conducting data analysis from time to time we may need to generate a number of random values or even an entire dataset of values and the numpy.random package allows us to do this.  \n"
   ]
  },
  {
   "cell_type": "markdown",
   "metadata": {},
   "source": [
    "<br/>\n",
    "\n",
    "## 2. Explain the use of the “Simple random data” and “Permutations” functions.\n",
    "***"
   ]
  },
  {
   "cell_type": "markdown",
   "metadata": {},
   "source": [
    "### Simple Random Data:"
   ]
  },
  {
   "cell_type": "markdown",
   "metadata": {},
   "source": [
    "A simple random sample is a subset of a statistical population in which each member of the subset has an equal probability of being chosen.<sup>4</sup> Essentially it is seen as a sampling technique where every item in the population has an even chance and likelihood of being selected in the sample. NumPy offers the random module to generate simple random numbers but as mentioned before these numbers are seen as pseudo random. \n",
    "\n",
    "The NumPy random package contains multiple functions for generating random data such as:\n",
    "\n",
    "##### Rand (numpy.random.rand)\n",
    "\n",
    "The numpy.random.rand function creates an array of a specified shape and fills it with random values. It generates random floating point numbers from a uniform distribution over [0, 1] and all values are equally as likely to be selected.<sup>5</sup> Each time this function is ran it will return a different array of values."
   ]
  },
  {
   "cell_type": "code",
   "execution_count": 2,
   "metadata": {},
   "outputs": [
    {
     "data": {
      "text/plain": [
       "array([0.32726917, 0.3520386 , 0.21747942])"
      ]
     },
     "execution_count": 2,
     "metadata": {},
     "output_type": "execute_result"
    }
   ],
   "source": [
    "# Create a 1D array\n",
    "# A single array with 3 values\n",
    "np.random.rand(3)"
   ]
  },
  {
   "cell_type": "code",
   "execution_count": 3,
   "metadata": {},
   "outputs": [
    {
     "data": {
      "text/plain": [
       "array([[0.00374852, 0.51168742, 0.02459203, 0.45335033, 0.00504992],\n",
       "       [0.52355763, 0.87554551, 0.43002514, 0.84957471, 0.77724895],\n",
       "       [0.27832667, 0.00325568, 0.58937117, 0.30438027, 0.20731171]])"
      ]
     },
     "execution_count": 3,
     "metadata": {},
     "output_type": "execute_result"
    }
   ],
   "source": [
    "# Create a 2D array\n",
    "# 3 arrays each with 5 values\n",
    "np.random.rand(3, 5)  "
   ]
  },
  {
   "cell_type": "code",
   "execution_count": 4,
   "metadata": {},
   "outputs": [
    {
     "data": {
      "text/plain": [
       "array([[[0.5229865 , 0.02325851, 0.80189592, 0.76573166],\n",
       "        [0.89345552, 0.58435826, 0.07093566, 0.41764013],\n",
       "        [0.87257253, 0.0376467 , 0.16474261, 0.68828916]],\n",
       "\n",
       "       [[0.35396421, 0.41467482, 0.61918264, 0.96627717],\n",
       "        [0.44542208, 0.69570258, 0.50475473, 0.0160066 ],\n",
       "        [0.66629492, 0.92168595, 0.98993583, 0.55728136]]])"
      ]
     },
     "execution_count": 4,
     "metadata": {},
     "output_type": "execute_result"
    }
   ],
   "source": [
    "# Create a 3D array\n",
    "# 2 arrays with 3 rows and 4 values\n",
    "np.random.rand(2, 3, 4) "
   ]
  },
  {
   "cell_type": "markdown",
   "metadata": {},
   "source": [
    "#### Randn (numpy.random.randn)"
   ]
  },
  {
   "cell_type": "markdown",
   "metadata": {},
   "source": [
    "Randn is used to generate an array of a specified shape filled with random values. Numpy.random.randn function returns samples from the standard normal distribution of mean 0 and a variance 1.<sup>7</sup>"
   ]
  },
  {
   "cell_type": "code",
   "execution_count": 5,
   "metadata": {},
   "outputs": [
    {
     "data": {
      "text/plain": [
       "array([ 0.39368032, -2.05767091])"
      ]
     },
     "execution_count": 5,
     "metadata": {},
     "output_type": "execute_result"
    }
   ],
   "source": [
    "# 1D array\n",
    "np.random.randn(2) "
   ]
  },
  {
   "cell_type": "code",
   "execution_count": 6,
   "metadata": {},
   "outputs": [
    {
     "data": {
      "text/plain": [
       "array([[-0.16766725,  1.39257088,  0.43519184],\n",
       "       [ 0.50900682, -0.44659428,  0.7578699 ],\n",
       "       [-1.03206574,  0.33630795, -0.50259881],\n",
       "       [-1.37630167,  0.10890809, -0.2043953 ]])"
      ]
     },
     "execution_count": 6,
     "metadata": {},
     "output_type": "execute_result"
    }
   ],
   "source": [
    "# 2D Array    \n",
    "np.random.randn(4, 3) "
   ]
  },
  {
   "cell_type": "code",
   "execution_count": 7,
   "metadata": {},
   "outputs": [
    {
     "data": {
      "text/plain": [
       "array([[[ 0.87207961, -1.60687702,  1.10274781,  0.67668045],\n",
       "        [-1.70400698,  0.65270246, -1.35728983,  0.27578107],\n",
       "        [ 0.51656269, -0.9201711 ,  0.37601161, -1.6383553 ]],\n",
       "\n",
       "       [[-0.72595997,  0.38229884, -0.76994763,  0.56717059],\n",
       "        [-1.86099323, -1.35331563, -0.46003001,  0.95602782],\n",
       "        [ 1.28577519,  0.46579986, -0.17281857, -1.10692587]]])"
      ]
     },
     "execution_count": 7,
     "metadata": {},
     "output_type": "execute_result"
    }
   ],
   "source": [
    "# 3D Array      \n",
    "np.random.randn(2, 3 ,4)  "
   ]
  },
  {
   "cell_type": "markdown",
   "metadata": {},
   "source": [
    "\n",
    "#### Randint (numpy.random.randint)"
   ]
  },
  {
   "cell_type": "markdown",
   "metadata": {},
   "source": [
    "The numpy.random.randint function returns random integers from low (inclusive) to high (exclusive) using the uniform distribution. Low sets the lowest (start) integer to be taken from and high (end) sets the largest integer. If there is no high value the low value then becomes the highest integer to be taken from. The function also takes a size parameter which refers to the output shape. The data type (dtype) can also be set with the default dtype set to int.<sup>8</sup>"
   ]
  },
  {
   "cell_type": "code",
   "execution_count": 8,
   "metadata": {},
   "outputs": [
    {
     "data": {
      "text/plain": [
       "array([1, 4, 1, 4, 2, 3, 2, 3])"
      ]
     },
     "execution_count": 8,
     "metadata": {},
     "output_type": "execute_result"
    }
   ],
   "source": [
    "# Create an array with 8 values\n",
    "# 1 will be included and 5 excluded\n",
    "np.random.randint(low = 1, high = 5, size = 8) "
   ]
  },
  {
   "cell_type": "code",
   "execution_count": 9,
   "metadata": {},
   "outputs": [
    {
     "data": {
      "text/plain": [
       "array([ 3,  9,  5, 18, 10,  8,  9,  1,  7, 19])"
      ]
     },
     "execution_count": 9,
     "metadata": {},
     "output_type": "execute_result"
    }
   ],
   "source": [
    "# Generate random numbers between 0 and 20\n",
    "# No high value so default set to (0, low)\n",
    "# 0 will be included and 20 excluded\n",
    "np.random.randint(low = 20, size = 10)"
   ]
  },
  {
   "cell_type": "markdown",
   "metadata": {},
   "source": [
    "\n",
    "#### Random_integers (numpy.random.random_integers)"
   ]
  },
  {
   "cell_type": "markdown",
   "metadata": {},
   "source": [
    "The random_integers function works similar to randint, but 1 is the lowest value if the high value is omitted. This function has been deprecated and replaced by randint.<sup>9</sup>"
   ]
  },
  {
   "cell_type": "code",
   "execution_count": 10,
   "metadata": {},
   "outputs": [
    {
     "name": "stderr",
     "output_type": "stream",
     "text": [
      "<ipython-input-10-963ec37a29c9>:3: DeprecationWarning: This function is deprecated. Please call randint(1, 10 + 1) instead\n",
      "  np.random.random_integers(10)\n"
     ]
    },
    {
     "data": {
      "text/plain": [
       "2"
      ]
     },
     "execution_count": 10,
     "metadata": {},
     "output_type": "execute_result"
    }
   ],
   "source": [
    "# Generate a random number between 1 and 10\n",
    "# You are told to use the randint function instead\n",
    "np.random.random_integers(10)"
   ]
  },
  {
   "cell_type": "markdown",
   "metadata": {},
   "source": [
    "\n",
    "#### Random_sample (numpy.random.random_sample)"
   ]
  },
  {
   "cell_type": "markdown",
   "metadata": {},
   "source": [
    "Random_sample returns an array of random floats from the continuous unifrom distribution. It returns in the interval (0.0, 0.1) or just a single random float if no size values are provided.<sup>10</sup> Other functions such as random, sample and ranf can give the same output as random_sample. "
   ]
  },
  {
   "cell_type": "code",
   "execution_count": 11,
   "metadata": {},
   "outputs": [
    {
     "data": {
      "text/plain": [
       "0.38826007695434017"
      ]
     },
     "execution_count": 11,
     "metadata": {},
     "output_type": "execute_result"
    }
   ],
   "source": [
    "# Generate a random number\n",
    "np.random.random_sample()"
   ]
  },
  {
   "cell_type": "code",
   "execution_count": 12,
   "metadata": {},
   "outputs": [
    {
     "data": {
      "text/plain": [
       "array([0.1643582 , 0.79434822, 0.41120094, 0.49879204, 0.09805262,\n",
       "       0.89301813, 0.05828896, 0.23784147, 0.19752819, 0.58909969])"
      ]
     },
     "execution_count": 12,
     "metadata": {},
     "output_type": "execute_result"
    }
   ],
   "source": [
    "# Generate 10 random numbers\n",
    "np.random.random_sample(10)"
   ]
  },
  {
   "cell_type": "code",
   "execution_count": 13,
   "metadata": {},
   "outputs": [
    {
     "data": {
      "text/plain": [
       "array([[0.87241262, 0.72514404, 0.84390893, 0.62208428, 0.06988473],\n",
       "       [0.59140748, 0.38479689, 0.63439956, 0.95274263, 0.1547428 ],\n",
       "       [0.39813474, 0.38490016, 0.29878632, 0.82924205, 0.15888372]])"
      ]
     },
     "execution_count": 13,
     "metadata": {},
     "output_type": "execute_result"
    }
   ],
   "source": [
    "# Create 2D array\n",
    "np.random.random_sample((3, 5)) "
   ]
  },
  {
   "cell_type": "code",
   "execution_count": 14,
   "metadata": {},
   "outputs": [
    {
     "data": {
      "text/plain": [
       "array([[[0.45287902, 0.77131421, 0.37874293, 0.09410869],\n",
       "        [0.59483096, 0.64071804, 0.20764908, 0.28259546]],\n",
       "\n",
       "       [[0.77175195, 0.81405659, 0.37419552, 0.81067495],\n",
       "        [0.90464651, 0.66288254, 0.65246814, 0.65073709]],\n",
       "\n",
       "       [[0.25085975, 0.20593043, 0.74810765, 0.16656307],\n",
       "        [0.53937461, 0.80573178, 0.36120138, 0.71991032]]])"
      ]
     },
     "execution_count": 14,
     "metadata": {},
     "output_type": "execute_result"
    }
   ],
   "source": [
    "# Create 3D array\n",
    "np.random.random_sample((3, 2, 4))"
   ]
  },
  {
   "cell_type": "code",
   "execution_count": 15,
   "metadata": {},
   "outputs": [
    {
     "data": {
      "text/plain": [
       "array([0.06271283, 0.75348698, 0.10220527, 0.25790057, 0.63729289])"
      ]
     },
     "execution_count": 15,
     "metadata": {},
     "output_type": "execute_result"
    }
   ],
   "source": [
    "# Using Random\n",
    "np.random.random(5)"
   ]
  },
  {
   "cell_type": "code",
   "execution_count": 16,
   "metadata": {},
   "outputs": [
    {
     "data": {
      "text/plain": [
       "array([0.84470775, 0.51584701, 0.62026583, 0.67834791, 0.15403367])"
      ]
     },
     "execution_count": 16,
     "metadata": {},
     "output_type": "execute_result"
    }
   ],
   "source": [
    "# Using Sample\n",
    "np.random.sample(5)"
   ]
  },
  {
   "cell_type": "code",
   "execution_count": 17,
   "metadata": {},
   "outputs": [
    {
     "data": {
      "text/plain": [
       "array([0.08346021, 0.68407436, 0.40776464, 0.75178784, 0.42464465])"
      ]
     },
     "execution_count": 17,
     "metadata": {},
     "output_type": "execute_result"
    }
   ],
   "source": [
    "# Using Ranf\n",
    "np.random.ranf(5)"
   ]
  },
  {
   "cell_type": "markdown",
   "metadata": {},
   "source": [
    "\n",
    "#### Choice (numpy.random.choice)\n"
   ]
  },
  {
   "cell_type": "markdown",
   "metadata": {},
   "source": [
    "The Choice function allows you to generate a random sample from an array. Numpy.random.choice takes an array as a parameter and randomly returns one of its values and it can also be used to return multiple values. This is uselful when you want to choose multiple random items from a particular list.<sup>11</sup> "
   ]
  },
  {
   "cell_type": "code",
   "execution_count": 18,
   "metadata": {},
   "outputs": [
    {
     "data": {
      "text/plain": [
       "array([4, 0, 1])"
      ]
     },
     "execution_count": 18,
     "metadata": {},
     "output_type": "execute_result"
    }
   ],
   "source": [
    "# Select 3 random numbers between 0 and 5\n",
    "np.random.choice(5,3)"
   ]
  },
  {
   "cell_type": "code",
   "execution_count": 19,
   "metadata": {},
   "outputs": [
    {
     "data": {
      "text/plain": [
       "'lion'"
      ]
     },
     "execution_count": 19,
     "metadata": {},
     "output_type": "execute_result"
    }
   ],
   "source": [
    "animal = ['dog', 'cat', 'bear', 'lion', 'ape', 'bird']\n",
    "\n",
    "# Get a random sample from a list\n",
    "np.random.choice(animal)"
   ]
  },
  {
   "cell_type": "code",
   "execution_count": 20,
   "metadata": {},
   "outputs": [
    {
     "data": {
      "text/plain": [
       "array(['dog', 'ape', 'bird'], dtype='<U4')"
      ]
     },
     "execution_count": 20,
     "metadata": {},
     "output_type": "execute_result"
    }
   ],
   "source": [
    "# Get 3 random samples from a list\n",
    "np.random.choice(animal, 3)"
   ]
  },
  {
   "cell_type": "code",
   "execution_count": 21,
   "metadata": {},
   "outputs": [
    {
     "data": {
      "text/plain": [
       "array([['cat', 'cat'],\n",
       "       ['bear', 'cat'],\n",
       "       ['cat', 'dog']], dtype='<U4')"
      ]
     },
     "execution_count": 21,
     "metadata": {},
     "output_type": "execute_result"
    }
   ],
   "source": [
    "# Create a random array with 3 rows and 2 columns from a list\n",
    "np.random.choice(animal,(3,2))"
   ]
  },
  {
   "cell_type": "markdown",
   "metadata": {},
   "source": [
    "\n",
    "#### Bytes (numpy.random.bytes)"
   ]
  },
  {
   "cell_type": "markdown",
   "metadata": {},
   "source": [
    "The bytes function returns random bytes and you can set the lenght of the output."
   ]
  },
  {
   "cell_type": "code",
   "execution_count": 22,
   "metadata": {},
   "outputs": [
    {
     "data": {
      "text/plain": [
       "b'\\xb7\\xd4'"
      ]
     },
     "execution_count": 22,
     "metadata": {},
     "output_type": "execute_result"
    }
   ],
   "source": [
    "np.random.bytes(2)"
   ]
  },
  {
   "cell_type": "markdown",
   "metadata": {},
   "source": [
    "<br/>\n",
    "<br/>\n",
    "\n",
    "### Permutations:"
   ]
  },
  {
   "cell_type": "markdown",
   "metadata": {},
   "source": [
    "A permutation refers to an arrangement of elements. e.g. 3,2,1 is a permutation of 1,2,3 and vice-versa. The NumPy random module provides two methods for this, shuffle and permutation.<sup>12</sup>"
   ]
  },
  {
   "cell_type": "markdown",
   "metadata": {},
   "source": [
    "\n",
    "#### Shuffle (numpy.random.shuffle)"
   ]
  },
  {
   "cell_type": "markdown",
   "metadata": {},
   "source": [
    "The shuffle function is used to modify a sequence by shuffling its contents. It changes the arrangement of elements in the array itself but the contents always remain the same. The function only shuffles along the first axis of a multi-dimensional array.<sup>13</sup>   "
   ]
  },
  {
   "cell_type": "code",
   "execution_count": 23,
   "metadata": {},
   "outputs": [
    {
     "data": {
      "text/plain": [
       "['cat', 'lion', 'ape', 'dog', 'bear', 'bird']"
      ]
     },
     "execution_count": 23,
     "metadata": {},
     "output_type": "execute_result"
    }
   ],
   "source": [
    "# Shuffle a list\n",
    "animal = ['dog', 'cat', 'bear', 'lion', 'ape', 'bird']\n",
    "\n",
    "np.random.shuffle(animal)\n",
    "animal"
   ]
  },
  {
   "cell_type": "markdown",
   "metadata": {},
   "source": [
    "\n",
    "#### Permutation (numpy.random.permutation)\n"
   ]
  },
  {
   "cell_type": "markdown",
   "metadata": {},
   "source": [
    "Permutation is used to randomly permute a sequence or return a permuted range. If used on a multi-dimensional array it is only shuffled along its first index. The permutation function returns a rearranged array but unlike shuffle it leaves the original array unchanged.<sup>14</sup>"
   ]
  },
  {
   "cell_type": "code",
   "execution_count": 24,
   "metadata": {},
   "outputs": [
    {
     "data": {
      "text/plain": [
       "array(['bird', 'lion', 'dog', 'ape', 'bear', 'cat'], dtype='<U4')"
      ]
     },
     "execution_count": 24,
     "metadata": {},
     "output_type": "execute_result"
    }
   ],
   "source": [
    "# Using Permutation with a list\n",
    "animal = ['dog', 'cat', 'bear', 'lion', 'ape', 'bird']\n",
    "\n",
    "np.random.permutation(animal)"
   ]
  },
  {
   "cell_type": "markdown",
   "metadata": {},
   "source": [
    "<br/>\n",
    "<br/>\n",
    "\n",
    "## 3. Explain the use and purpose of at least five “Distributions” functions.\n",
    "***"
   ]
  },
  {
   "cell_type": "markdown",
   "metadata": {},
   "source": [
    "Porobability distributions allow Data Scientists to recognise patterns in random variables. Most data science or machine learning skills are based on assumptions about the distribution of your data.<sup>15</sup> There are two main types of distribution, discreet and continuous.\n",
    "\n",
    "A discrete distribution is a distribution of data that has discrete values. These values are countable, finite, non-negative integers, such as 1, 10, 15, etc. It is used in data research to identify the outcome and probabilities of a particular study. The most common discrete probability distributions include Binomial, Poisson, Bernoulli, and Multinomial.<sup>16</sup>\n",
    "\n",
    "A continuous distribution describes the probabilities of the possible values of a continuous random variable. A continuous random variable is a random variable with a set of possible values (range) that is infinite and uncountable.<sup>17</sup> Normal, Uniform, Chi Square and T Distribution are all examples of continuous distributions. "
   ]
  },
  {
   "cell_type": "markdown",
   "metadata": {},
   "source": [
    "<br/>\n",
    "\n",
    "### Distributions"
   ]
  },
  {
   "cell_type": "markdown",
   "metadata": {},
   "source": [
    "\n",
    "#### Binomial (numpy.random.binomial)"
   ]
  },
  {
   "cell_type": "markdown",
   "metadata": {},
   "source": [
    "Binomial distribution is a distribution where only two outcomes are possible, such as success or failure, gain or loss or win or lose and the probability of success and failure is the same for all its trials. Take the example of a coin toss, there are only two possible outcomes, heads or tails. The probability of getting a heads (success) can be seen as p = 0.5 and the probability of getting a tails (failure) can be seen as q = 1 - p = 0.5. This function can also be used if outcomes are not equal, eg. if the probability of success is p = 0.2 then the probability of failure is q = 1 - 0.2 = 0.8. Each trial is independent since the outcome of the previous toss doesn’t determine or affect the outcome of the current toss.<sup>18</sup> The total number of trials can be set using n = 20 and by setting size = 1000 we can run the 20 trials 1000 times and view the outcome. The parameters are:\n",
    "        \n",
    "   * n - the total number of trials\n",
    "        \n",
    "   * p - the probability of success in each trial\n",
    "        \n",
    "   * size - output shape"
   ]
  },
  {
   "cell_type": "code",
   "execution_count": 25,
   "metadata": {},
   "outputs": [
    {
     "data": {
      "text/plain": [
       "Text(0.5, 0, 'Binomial distribution')"
      ]
     },
     "execution_count": 25,
     "metadata": {},
     "output_type": "execute_result"
    },
    {
     "data": {
      "image/png": "[encoded data removed]",
      "text/plain": [
       "<Figure size 432x288 with 1 Axes>"
      ]
     },
     "metadata": {},
     "output_type": "display_data"
    }
   ],
   "source": [
    "# Coin toss example which displays binomial distribution. [19]\n",
    "\n",
    "# Number of trials\n",
    "size = 1000\n",
    "# Number of independent coin tosses in each trial\n",
    "n = 20\n",
    "# Probability of success for each experiment\n",
    "p = 0.5\n",
    "\n",
    "# Run the trials\n",
    "bd = np.random.binomial(n, p, size)\n",
    "\n",
    "# Plot the result to show distribution\n",
    "ax = sns.histplot(bd, kde=True, color='red', bins=12)\n",
    "ax.set_xlabel ('Binomial distribution')"
   ]
  },
  {
   "cell_type": "code",
   "execution_count": 26,
   "metadata": {},
   "outputs": [
    {
     "data": {
      "text/plain": [
       "Text(0.5, 0, 'Binomial distribution')"
      ]
     },
     "execution_count": 26,
     "metadata": {},
     "output_type": "execute_result"
    },
    {
     "data": {
      "image/png": "[encoded data removed]",
      "text/plain": [
       "<Figure size 432x288 with 1 Axes>"
      ]
     },
     "metadata": {},
     "output_type": "display_data"
    }
   ],
   "source": [
    "# Example which displays binomial distribution with unequal probability\n",
    "\n",
    "# Run trials\n",
    "bd = np.random.binomial(20, 0.2, 1000)\n",
    "\n",
    "# Plot distribution\n",
    "ax = sns.histplot(bd, kde=True, color='red', bins=12)\n",
    "ax.set_xlabel ('Binomial distribution')"
   ]
  },
  {
   "cell_type": "markdown",
   "metadata": {},
   "source": [
    "\n",
    "#### Poisson (numpy.random.poisson)"
   ]
  },
  {
   "cell_type": "markdown",
   "metadata": {},
   "source": [
    "A Poisson distribution is a discreet distribution which counts how many times an event is likely to occur within a specified period of time, given the average number of times the event occurs. The Poisson distribution can only be measured as occurring or not as occurring and the rate of occurence needs to be constant. The events are independent of each other so two events cannot occur at the same time.<sup>20</sup> It takes two arguments:\n",
    "\n",
    "   * lam - rate or known number of occurences\n",
    "   \n",
    "    \n",
    "   * size - the shape of the output\n"
   ]
  },
  {
   "cell_type": "code",
   "execution_count": 27,
   "metadata": {},
   "outputs": [
    {
     "data": {
      "text/plain": [
       "Text(0.5, 0, 'Poisson distribution')"
      ]
     },
     "execution_count": 27,
     "metadata": {},
     "output_type": "execute_result"
    },
    {
     "data": {
      "image/png": "[encoded data removed]",
      "text/plain": [
       "<Figure size 432x288 with 1 Axes>"
      ]
     },
     "metadata": {},
     "output_type": "display_data"
    }
   ],
   "source": [
    "# Draw samples from the poisson distribution. [21]\n",
    "\n",
    "# Run trial\n",
    "p = np.random.poisson(lam = 5, size = 10000)\n",
    "\n",
    "# Plot results\n",
    "ax = sns.histplot(p, kde=True, bins=12)\n",
    "ax.set_xlabel ('Poisson distribution')"
   ]
  },
  {
   "cell_type": "markdown",
   "metadata": {},
   "source": [
    "<br/>\n",
    "\n",
    "###### Difference Between Poisson and Binomial Distribution"
   ]
  },
  {
   "cell_type": "markdown",
   "metadata": {},
   "source": [
    "Binomial distribution and Poisson distribution have some simularities but are also very different. Binomial distribution is for discrete trials, whereas poisson distribution is for continuous trials. Binomial has two possible outcomes whereas Poisson has an unlimited number of outcomes and Binomial distribution has a constant success probability while Poisson distribution has a small number of success chances.<sup>22</sup> "
   ]
  },
  {
   "cell_type": "markdown",
   "metadata": {},
   "source": [
    "<br/>\n",
    "\n",
    "#### Normal (numpy.random.normal)"
   ]
  },
  {
   "cell_type": "markdown",
   "metadata": {},
   "source": [
    "The Normal Distribution is one of the most important distributions. It is also called the Gaussian Distribution after the German mathematician Carl Friedrich Gauss. It fits the probability distribution of many events, eg. IQ Scores, Heartbeat etc.<sup>24</sup> In normal distributution exactly half of the values are to the left of the center and the other half to the right. The curve of normal distribution data is often referred to as a bell curve due to its distinctive bell shape.<sup>18</sup> It has three parameters:\n",
    "        \n",
    "   * loc - (Mean) where the peak of the bell exists.\n",
    "   \n",
    "\n",
    "   * scale - (Standard Deviation) how flat the graph distribution should be.\n",
    "\n",
    "\n",
    "   * size - The shape of the returned array.\n",
    "   "
   ]
  },
  {
   "cell_type": "code",
   "execution_count": 28,
   "metadata": {},
   "outputs": [
    {
     "data": {
      "text/plain": [
       "Text(0.5, 0, 'Normal distribution')"
      ]
     },
     "execution_count": 28,
     "metadata": {},
     "output_type": "execute_result"
    },
    {
     "data": {
      "image/png": "[encoded data removed]",
      "text/plain": [
       "<Figure size 432x288 with 1 Axes>"
      ]
     },
     "metadata": {},
     "output_type": "display_data"
    }
   ],
   "source": [
    "# Generate examples from the normal distribution. [25]\n",
    "\n",
    "# Set the mean, standard deviation and size\n",
    "loc = 0\n",
    "scale = 0.3\n",
    "size = 10000\n",
    "\n",
    "# Generate 10000 numbers in a normal distribution \n",
    "nd = np.random.normal(loc, scale, size)\n",
    "\n",
    "# Plot distribution\n",
    "ax = sns.histplot(nd, kde=True, color = 'green', bins=14) \n",
    "ax.set_xlabel ('Normal distribution')"
   ]
  },
  {
   "cell_type": "markdown",
   "metadata": {},
   "source": [
    "<br/>\n",
    "\n",
    "#### Uniform (numpy.random.uniform)"
   ]
  },
  {
   "cell_type": "markdown",
   "metadata": {},
   "source": [
    "Numpy.random.unifrom draws samples from a uniform distribution. In a uniform distribution all values have an equal chance of occurring. In the binomial distribution we only have two possible outcomes but in the uniform distirbution we have an unlimited number of possible outcomes. Its parameters are:\n",
    "\n",
    "   * low - Values Generated will be greater than or equal to low. Default is 0.\n",
    "   \n",
    "   \n",
    "   * high - Values generated will be less than high. The default value is 1.0.\n",
    "   \n",
    "   \n",
    "   * size - Output the shape. Default(none) will return single values.<sup>26</sup>\n",
    "   "
   ]
  },
  {
   "cell_type": "code",
   "execution_count": 29,
   "metadata": {},
   "outputs": [
    {
     "data": {
      "text/plain": [
       "Text(0.5, 0, 'Uniform distribution')"
      ]
     },
     "execution_count": 29,
     "metadata": {},
     "output_type": "execute_result"
    },
    {
     "data": {
      "image/png": "[encoded data removed]",
      "text/plain": [
       "<Figure size 432x288 with 1 Axes>"
      ]
     },
     "metadata": {},
     "output_type": "display_data"
    }
   ],
   "source": [
    "# Draw samples from the uniform distribution\n",
    "\n",
    "# For large samples the histogram has a distinctive rectangular shape\n",
    "ud = np.random.uniform(-1,0,10000)\n",
    "\n",
    "# Display the histogram of the sample\n",
    "ax = sns.histplot(ud, kde=True, color = 'purple', bins=14) \n",
    "ax.set_xlabel ('Uniform distribution')\n"
   ]
  },
  {
   "cell_type": "markdown",
   "metadata": {},
   "source": [
    "<br/>\n",
    "\n",
    "#### Chi Square (numpy.random.chisquare)"
   ]
  },
  {
   "cell_type": "markdown",
   "metadata": {},
   "source": [
    "The Chi Square distribution is very important because many test statistics are approximately distributed as Chi Square. Two of the more common tests using the Chi Square distribution are the test of independence for data and the goodness of fit for a model. The Chi-Square test of independence is used to determine if there is a significant relationship between two nominal (categorical) variables and the goodness of fit test measures whether there is a difference between the experimental (observed) value and the theoretical (expected) value.<sup>27</sup> Chi Square distribution is used as a basis to verify the hypothesis. It has two parameters:\n",
    "\n",
    "   * df - degree of freedom\n",
    "   \n",
    "   \n",
    "   * size - Shape of returned array \n",
    "   \n",
    "   \n",
    "When df independent random variables, each with standard normal distributions (mean 0, variance 1), are squared and summed, the resulting distribution is chi-square.<sup>28</sup> The mean of a Chi Square distribution is its degrees of freedom. Chi Square distributions are positively skewed, with the degree of skew decreasing with increasing degrees of freedom. As the degrees of freedom increases, the Chi Square distribution can be seen to approach a normal distribution.<sup>27</sup>"
   ]
  },
  {
   "cell_type": "code",
   "execution_count": 30,
   "metadata": {},
   "outputs": [
    {
     "data": {
      "text/plain": [
       "<seaborn.axisgrid.FacetGrid at 0x1dd94ba8610>"
      ]
     },
     "execution_count": 30,
     "metadata": {},
     "output_type": "execute_result"
    },
    {
     "data": {
      "image/png": "[encoded data removed]",
      "text/plain": [
       "<Figure size 360x360 with 1 Axes>"
      ]
     },
     "metadata": {},
     "output_type": "display_data"
    },
    {
     "data": {
      "image/png": "[encoded data removed]",
      "text/plain": [
       "<Figure size 360x360 with 1 Axes>"
      ]
     },
     "metadata": {},
     "output_type": "display_data"
    },
    {
     "data": {
      "image/png": "[encoded data removed]",
      "text/plain": [
       "<Figure size 360x360 with 1 Axes>"
      ]
     },
     "metadata": {},
     "output_type": "display_data"
    },
    {
     "data": {
      "image/png": "[encoded data removed]",
      "text/plain": [
       "<Figure size 360x360 with 1 Axes>"
      ]
     },
     "metadata": {},
     "output_type": "display_data"
    }
   ],
   "source": [
    "# Example of the Chi Square distribution approaching a normal distribution. [27]\n",
    "\n",
    "# Array of 100000, with 1 degree of freedom\n",
    "cs1 = np.random.chisquare(1,100000) \n",
    "sns.displot(cs1)\n",
    "\n",
    "# Array of 100000, with 3 degrees of freedom\n",
    "cs2 = np.random.chisquare(3,100000) \n",
    "sns.displot(cs2)\n",
    "\n",
    "# Array of 100000, with 6 degrees of freedom\n",
    "cs3 = np.random.chisquare(6,100000) \n",
    "sns.displot(cs3)  \n",
    "\n",
    "# Array of 100000, with 12 degrees of freedom\n",
    "cs4 = np.random.chisquare(12,100000) \n",
    "sns.displot(cs4) "
   ]
  },
  {
   "cell_type": "markdown",
   "metadata": {},
   "source": [
    "<br/>\n",
    "<br/>\n",
    "\n",
    "## 4. Explain the use of seeds in generating pseudorandom numbers.\n",
    "***"
   ]
  },
  {
   "cell_type": "markdown",
   "metadata": {},
   "source": [
    "As mentioned earlier in this project the random numbers generated by NumPy are not exactly random. They are known as pseudo random as they are determined by the input and the pseudo random number algorithm. The seed is the starting point for the pseudo random number generator and the numpy.random.seed function allows you to provide the seed value to the random number generator. If the seed used is known, then it is possible to predict the behaviour of the pseudo random number generator.  \n",
    "\n",
    "Pseudo Random Number Generator(PRNG) refers to an algorithm that uses mathematical formulas to produce sequences of random numbers. It uses a particular algorithm called the Mersenne Twister, which was developed in 1997 by Makoto Matsumoto and Takuji Nishimura. PRNGs generate a sequence of numbers approximating the properties of random numbers and start from an arbitrary starting state using a seed.<sup>29</sup>\n",
    "\n",
    "The seed function is used to save the state of a random function. This is done so it can generate same random numbers on multiple executions of the code for a particular seed value. The seed value is the previous value number generated by the generator. For the first time when there is no previous value, it uses the computers current system time.<sup>30</sup> Current time is a frequently used seed as they are usually generated from a computer systems time."
   ]
  },
  {
   "cell_type": "code",
   "execution_count": 31,
   "metadata": {},
   "outputs": [
    {
     "name": "stdout",
     "output_type": "stream",
     "text": [
      "868\n",
      "868\n",
      "207\n"
     ]
    }
   ],
   "source": [
    "# Generate the same random number each time with the same seed value[30].\n",
    "np.random.seed(5)   \n",
    "# Print a random number between 1 and 1000 \n",
    "print(np.random.randint(1, 1000)) \n",
    "  \n",
    "# Get the same random number again \n",
    "np.random.seed(5)  \n",
    "print(np.random.randint(1, 1000)) \n",
    "  \n",
    "# If the seed function is not used it returns a different random number \n",
    "print(np.random.randint(1, 1000)) "
   ]
  },
  {
   "cell_type": "markdown",
   "metadata": {},
   "source": [
    "<br>\n",
    "\n",
    "### References\n",
    "****"
   ]
  },
  {
   "cell_type": "markdown",
   "metadata": {},
   "source": [
    "1. FreeCodeCamp.org. 2020. The Ultimate Guide To The Numpy Package For Scientific Computing In Python. [online] Available at: <https://www.freecodecamp.org/news/the-ultimate-guide-to-the-numpy-scientific-computing-library-for-python/>.\n",
    "\n",
    "\n",
    "2. javapoint.com. 2020. Numpy.Random() In Python - Javatpoint. [online] Available at: <https://www.javatpoint.com/numpy-random>.\n",
    "\n",
    "\n",
    "3. McKinney, W., 2018. Python For Data Analysis. Beijing [etc.]: O'Reilly Media.\n",
    "\n",
    "\n",
    "4. Investopedia. 2020. How Simple Random Samples Work. [online] Available at: <https://www.investopedia.com/terms/s/simple-random-sample.asp>.\n",
    "\n",
    "\n",
    "5. Docs.scipy.org. 2020. Numpy.Random.Rand — Numpy V1.15 Manual. [online] Available at: <https://docs.scipy.org/doc/numpy-1.15.0/reference/generated/numpy.random.rand.html#numpy.random.rand>.\n",
    "\n",
    "\n",
    "6. GeeksforGeeks. 2020. Numpy.Random.Rand() In Python - Geeksforgeeks. [online] Available at: <https://www.geeksforgeeks.org/numpy-random-rand-python/>.\n",
    "    \n",
    "\n",
    "7. GeeksforGeeks. 2020. Numpy.Random.Randn() In Python - Geeksforgeeks. [online] Available at: <https://www.geeksforgeeks.org/numpy-random-randn-python/?ref=lbp>.\n",
    "\n",
    "\n",
    "8. Docs.scipy.org. 2020. Numpy.Random.Randint — Numpy V1.15 Manual. [online] Available at: <https://docs.scipy.org/doc/numpy-1.15.0/reference/generated/numpy.random.randint.html>.\n",
    "\n",
    "\n",
    "9. Docs.scipy.org. 2020 Numpy.Random.Random_integers - Numpy V1.15 Manual. [online] Available at: <https://docs.scipy.org/doc/numpy-1.15.0/reference/generated/numpy.random.random_integers.html#numpy.random.random_integers.html>.\n",
    "\n",
    "\n",
    "10. Docs.scipy.org. 2020 Numpy.Random.Random_sample - Numpy V1.15 Manual. [online] Available at: <https://docs.scipy.org/doc/numpy-1.15.0/reference/generated/numpy.random.random_sample.html#numpy.random.random_sample.html>.\n",
    "\n",
    "\n",
    "11. Docs.scipy.org. 2020 Numpy.Random.Choice - Numpy V1.15 Manual. [online] Available at: <https://docs.scipy.org/doc/numpy-1.15.0/reference/generated/numpy.random.choice.html#numpy.random.choice.html>.\n",
    "\n",
    "\n",
    "12. W3schools.com. 2020. Random Permutations. [online] Available at: <https://www.w3schools.com/python/numpy_random_permutation.asp>.\n",
    "\n",
    "\n",
    "13. Docs.scipy.org. 2020. Numpy.Random.Shuffle — Numpy V1.15 Manual. [online] Available at: <https://docs.scipy.org/doc/numpy-1.15.0/reference/generated/numpy.random.shuffle.html#numpy.random.shuffle>.\n",
    "\n",
    "\n",
    "14. W3schools.com. 2020. Random Permutations. [online] Available at: <https://www.w3schools.com/python/numpy_random_permutation.asp>.\n",
    "\n",
    "\n",
    "15. Strika, L., 2020. 5 Probability Distributions Every Data Scientist Should Know - Kdnuggets. [online] KDnuggets. Available at: <https://www.kdnuggets.com/2019/07/5-probability-distributions-every-data-scientist-should-know.html>.\n",
    "\n",
    "\n",
    "16. Investopedia. 2020. How Discrete Distribution Works. [online] Available at: <https://www.investopedia.com/terms/d/discrete-distribution.asp>.\n",
    "\n",
    "\n",
    "17. Support.minitab.com. 2020. Continuous And Discrete Probability Distributions - Minitab Express. [online] Available at: <https://support.minitab.com/en-us/minitab-express/1/help-and-how-to/basic-statistics/probability-distributions/supporting-topics/basics/continuous-and-discrete-probability-distributions>.\n",
    "\n",
    "\n",
    "18. know, 6. and Vidhya, A., 2020. Probability Distribution | Types Of Distributions. [online] Analytics Vidhya. Available at: <https://www.analyticsvidhya.com/blog/2017/09/6-probability-distributions-data-science/>.\n",
    "\n",
    "\n",
    "19. Medium. 2020. Fun With The Binomial Distribution. [online] Available at: <https://towardsdatascience.com/fun-with-the-binomial-distribution-96a5ecabf65b>.\n",
    "\n",
    "\n",
    "20. Investopedia. 2020. Kenton, Will. Poisson Distribution. [online] Available at: <www.investopedia.com/terms/p/poisson-distribution.asp>.\n",
    "\n",
    "\n",
    "21. Docs.scipy.com. 2020. Numpy.Random.Poisson - Numpy V1.15 Manual. [online] Available at: <https://docs.scipy.org/doc/numpy-1.15.0/reference/generated/numpy.random.poisson.html#numpy.random.poisson>.\n",
    "\n",
    "\n",
    "22. Keydifferences.com. 2020. Difference Between Binomial and Poisson Distribution. [online] Available at: <https://keydifferences.com/difference-between-binomial-and-poisson-distribution.html>.\n",
    "\n",
    "\n",
    "23. W3schools.com. 2020. Numpy Random Poisson. [online] Available at: <https://www.w3schools.com/python/numpy_random_poisson.asp>\n",
    "\n",
    "\n",
    "24. W3schools.com. 2020. Numpy Random Normal. [online] Available at: <https://www.w3schools.com/python/numpy_random_normal.asp>\n",
    "\n",
    "\n",
    "25. Matplotlib.org. 2020. Matplotlib.pyplot.xticks — Matplotlib 3.1.2 documentation. [online] Available at:<https://matplotlib.org/3.1.1/api/_as_gen/matplotlib.pyplot.xticks.html>\n",
    "\n",
    "\n",
    "26. Docs.scipy.com. 2020. Numpy Random Uniform - Numpy V1.15 Manual. [online] Available at: <https://docs.scipy.org/doc/numpy-1.15.0/reference/generated/numpy.random.uniform.html#numpy.random.uniform>\n",
    "\n",
    "\n",
    "27. Onlinestatbook.com. 2020. Chi Square Distribution. [online] Available at: <http://onlinestatbook.com/2/chi_square/distribution.html>\n",
    "\n",
    "\n",
    "28. Docs.scipy.com. 2020. Numpy Random Chi Square - Numpy V1.15 Manual. [online] Available at: <https://docs.scipy.org/doc/numpy-1.15.0/reference/generated/numpy.random.chisquare.html#numpy.random.chisquare>\n",
    "\n",
    "\n",
    "29. Geeksforgeeks. 2020. Psuedo Random Number Generator - Geekforgeeks. [online] Available at: <https://www.geeksforgeeks.org/pseudo-random-number-generator-prng/>\n",
    "\n",
    "\n",
    "30. Geeksforgeeks. 2020. Random Seed in Python - Geekforgeeks. [online] Available at: <https://www.geeksforgeeks.org/random-seed-in-python/>"
   ]
  }
 ],
 "metadata": {
  "kernelspec": {
   "display_name": "Python 3",
   "language": "python",
   "name": "python3"
  },
  "language_info": {
   "codemirror_mode": {
    "name": "ipython",
    "version": 3
   },
   "file_extension": ".py",
   "mimetype": "text/x-python",
   "name": "python",
   "nbconvert_exporter": "python",
   "pygments_lexer": "ipython3",
   "version": "3.8.3"
  }
 },
 "nbformat": 4,
 "nbformat_minor": 4
}
